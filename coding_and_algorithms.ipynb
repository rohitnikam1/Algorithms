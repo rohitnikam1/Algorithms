{
  "nbformat": 4,
  "nbformat_minor": 0,
  "metadata": {
    "kernelspec": {
      "display_name": "Python 3",
      "language": "python",
      "name": "python3"
    },
    "language_info": {
      "codemirror_mode": {
        "name": "ipython",
        "version": 3
      },
      "file_extension": ".py",
      "mimetype": "text/x-python",
      "name": "python",
      "nbconvert_exporter": "python",
      "pygments_lexer": "ipython3",
      "version": "3.7.8"
    },
    "varInspector": {
      "cols": {
        "lenName": 16,
        "lenType": 16,
        "lenVar": 40
      },
      "kernels_config": {
        "python": {
          "delete_cmd_postfix": "",
          "delete_cmd_prefix": "del ",
          "library": "var_list.py",
          "varRefreshCmd": "print(var_dic_list())"
        },
        "r": {
          "delete_cmd_postfix": ") ",
          "delete_cmd_prefix": "rm(",
          "library": "var_list.r",
          "varRefreshCmd": "cat(var_dic_list()) "
        }
      },
      "types_to_exclude": [
        "module",
        "function",
        "builtin_function_or_method",
        "instance",
        "_Feature"
      ],
      "window_display": false
    },
    "colab": {
      "name": "coding_and_algorithms.ipynb",
      "provenance": [],
      "include_colab_link": true
    }
  },
  "cells": [
    {
      "cell_type": "markdown",
      "metadata": {
        "id": "view-in-github",
        "colab_type": "text"
      },
      "source": [
        "<a href=\"https://colab.research.google.com/github/rohitnikam1/Miscellaneous_Code_Snippets/blob/master/coding_and_algorithms.ipynb\" target=\"_parent\"><img src=\"https://colab.research.google.com/assets/colab-badge.svg\" alt=\"Open In Colab\"/></a>"
      ]
    },
    {
      "cell_type": "markdown",
      "metadata": {
        "id": "TCNHcsA6cwDo"
      },
      "source": [
        "# Algorithms"
      ]
    },
    {
      "cell_type": "code",
      "metadata": {
        "id": "PlcdRkTdcwDy"
      },
      "source": [
        "import math\n",
        "import itertools\n",
        "import pandas as pd\n",
        "import seaborn as sns"
      ],
      "execution_count": null,
      "outputs": []
    },
    {
      "cell_type": "markdown",
      "metadata": {
        "id": "fsMl4--ocwD1"
      },
      "source": [
        "### Perfect square\n",
        "\n",
        "Check if the number is a perfect square"
      ]
    },
    {
      "cell_type": "code",
      "metadata": {
        "id": "D0rBCRficwD2"
      },
      "source": [
        "from math import ceil, floor, sqrt\n",
        "\n",
        "def perfect_square(n):\n",
        "    return ceil(sqrt(n)) == floor(sqrt(n))"
      ],
      "execution_count": null,
      "outputs": []
    },
    {
      "cell_type": "markdown",
      "metadata": {
        "id": "WGX2_kSNcwD4"
      },
      "source": [
        "### Reversed words\n",
        "\n",
        "Reverses all of the words within the given string.\n",
        "    \n",
        "Example: \"The greatest victory is that which requires no battle\" --> \n",
        "         \"battle no requires which that is victory greatest The\""
      ]
    },
    {
      "cell_type": "code",
      "metadata": {
        "id": "S9Q6Qn5BcwD5"
      },
      "source": [
        "def reverseWords(str):\n",
        "    return \" \".join(str.split(\" \")[::-1])"
      ],
      "execution_count": null,
      "outputs": []
    },
    {
      "cell_type": "markdown",
      "metadata": {
        "id": "fIPXMizZcwD6"
      },
      "source": [
        "### Equal Sides Of An Array\n",
        "\n",
        "Given an array `arr`, find an index `N` where the sum of the integers to the left of `N` is equal to the sum of the integers to the right of `N`. If there is no index that would make this happen, return -1."
      ]
    },
    {
      "cell_type": "code",
      "metadata": {
        "id": "VFBm4lHOcwD7"
      },
      "source": [
        "def find_even_index(arr):\n",
        "    lsum = 0\n",
        "    rsum = sum(arr) \n",
        "    \n",
        "    for i, x in enumerate(arr):\n",
        "        rsum -= x\n",
        "        if lsum == rsum:\n",
        "            return i\n",
        "        lsum += x\n",
        "    return -1"
      ],
      "execution_count": null,
      "outputs": []
    },
    {
      "cell_type": "code",
      "metadata": {
        "id": "uWQlf12acwD8",
        "outputId": "199444ca-db7c-44e7-c6fd-810081aa50ec"
      },
      "source": [
        "print(find_even_index([1,100,50,-51,1,1]))"
      ],
      "execution_count": null,
      "outputs": [
        {
          "name": "stdout",
          "output_type": "stream",
          "text": [
            "1\n"
          ]
        }
      ]
    },
    {
      "cell_type": "markdown",
      "metadata": {
        "id": "5auoH3cecwEA"
      },
      "source": [
        "### Disemvowel Trolls\n",
        "\n",
        "Take a string and return a new string with all vowels removed.\n",
        "\n",
        "Example: \"This website is for losers LOL!\" --> \"Ths wbst s fr lsrs LL!\"."
      ]
    },
    {
      "cell_type": "code",
      "metadata": {
        "id": "XaiWyVE6cwEB"
      },
      "source": [
        "def disemvowel1(s):\n",
        "    return s.translate(None, \"aeiouAEIOU\")\n",
        "\n",
        "def disemvowel2(string):\n",
        "    return \"\".join(c for c in string if c.lower() not in \"aeiou\")\n",
        "\n",
        "def disemvowel3(s):\n",
        "    for i in \"aeiouAEIOU\":\n",
        "        s = s.replace(i,'')\n",
        "    return s\n",
        "\n",
        "import re\n",
        "def disemvowel4(string):\n",
        "    return re.sub('[aeiou]', '', string, flags = re.IGNORECASE)\n",
        "\n",
        "def disemvowel5(string_):\n",
        "    for alphabet in 'aeiouAEIOU':\n",
        "        list_ = string_.split(alphabet)\n",
        "        string_ = ''.join(list_)\n",
        "    return string_"
      ],
      "execution_count": null,
      "outputs": []
    },
    {
      "cell_type": "markdown",
      "metadata": {
        "id": "cCDFF6JkcwEC"
      },
      "source": [
        "### Factorial"
      ]
    },
    {
      "cell_type": "code",
      "metadata": {
        "id": "k72Gbqk0cwED"
      },
      "source": [
        "def factorial(x):\n",
        "    if x == 0:\n",
        "        return 1\n",
        "    else:\n",
        "        return x*factorial(x-1)"
      ],
      "execution_count": null,
      "outputs": []
    },
    {
      "cell_type": "code",
      "metadata": {
        "id": "xzHHW3PNcwED",
        "outputId": "f370dc96-bb67-4380-a0bd-ea0573c8544f"
      },
      "source": [
        "print(factorial(10))"
      ],
      "execution_count": null,
      "outputs": [
        {
          "name": "stdout",
          "output_type": "stream",
          "text": [
            "3628800\n"
          ]
        }
      ]
    },
    {
      "cell_type": "markdown",
      "metadata": {
        "id": "m16dUTqpcwEE"
      },
      "source": [
        "### Prime factorization of a number"
      ]
    },
    {
      "cell_type": "code",
      "metadata": {
        "id": "K5POauONcwEF"
      },
      "source": [
        "from math import sqrt, ceil\n",
        "\n",
        "def prime_factors(n):\n",
        "    d = {}\n",
        "    for i in range(2, ceil(sqrt(n))):\n",
        "        if not n%i:\n",
        "            while not n%i:\n",
        "                n /= i\n",
        "                d[i] = d.get(i,0) + 1\n",
        "    if n != 1:\n",
        "        d[int(n)] = d.get(n,0) + 1 \n",
        "    return ''.join([f'({k}^{v})' for (k,v) in d.items()])"
      ],
      "execution_count": null,
      "outputs": []
    },
    {
      "cell_type": "code",
      "metadata": {
        "id": "zkkwRMzCcwEF",
        "outputId": "a9d515db-dcc6-4ec3-87ee-903c4a7e9fe8"
      },
      "source": [
        "prime_factors(660)"
      ],
      "execution_count": null,
      "outputs": [
        {
          "data": {
            "text/plain": [
              "'(2^2)(3^1)(5^1)(11^1)'"
            ]
          },
          "execution_count": 50,
          "metadata": {},
          "output_type": "execute_result"
        }
      ]
    },
    {
      "cell_type": "markdown",
      "metadata": {
        "id": "zgRAXxq4cwEG"
      },
      "source": [
        "### Find all prime numbers upto n (Sieve of Eratosthenes)"
      ]
    },
    {
      "cell_type": "code",
      "metadata": {
        "id": "VK8qrXyXcwEH"
      },
      "source": [
        "from math import sqrt, ceil\n",
        "\n",
        "def primes_upto(n):\n",
        "    primes = [1]*(n+1)\n",
        "    primes[0] = 0\n",
        "    primes[1] = 0\n",
        "    for i in range(2, ceil(sqrt(n))):\n",
        "        if primes[i] == 1:\n",
        "            j = 2\n",
        "            while i*j <= n:\n",
        "                primes[i*j] = 0\n",
        "                j += 1\n",
        "    return [i  for (i,j) in enumerate(primes) if j]\n",
        "\n",
        "# time complexity = O(n log log (n))"
      ],
      "execution_count": null,
      "outputs": []
    },
    {
      "cell_type": "code",
      "metadata": {
        "id": "-OqAiHVncwEH",
        "outputId": "e818c847-f060-47f9-d299-77b090292a46"
      },
      "source": [
        "primes_upto(50)"
      ],
      "execution_count": null,
      "outputs": [
        {
          "data": {
            "text/plain": [
              "[2, 3, 5, 7, 11, 13, 17, 19, 23, 29, 31, 37, 41, 43, 47]"
            ]
          },
          "execution_count": 74,
          "metadata": {},
          "output_type": "execute_result"
        }
      ]
    },
    {
      "cell_type": "markdown",
      "metadata": {
        "id": "Y8XHmnuMcwEI"
      },
      "source": [
        "### Standard deviation"
      ]
    },
    {
      "cell_type": "code",
      "metadata": {
        "id": "LbnwA5DacwEI"
      },
      "source": [
        "def std(x):\n",
        "    import math\n",
        "    n = len(x)\n",
        "    if n <=1:\n",
        "        return float('NaN')\n",
        "    else:\n",
        "        sum_squares = sum(list(map(lambda x:x**2, x))) #[f**2 for f in x]\n",
        "        mean = sum(x)/n\n",
        "        var = float((sum_squares - n*mean**2)/(n-1))\n",
        "        return round(math.sqrt(var),2)"
      ],
      "execution_count": null,
      "outputs": []
    },
    {
      "cell_type": "code",
      "metadata": {
        "id": "D299He_-cwEJ",
        "outputId": "2a5905af-0e84-42bb-8e06-41ad10169909"
      },
      "source": [
        "print(std([1, 2, 3, 4]))"
      ],
      "execution_count": null,
      "outputs": [
        {
          "name": "stdout",
          "output_type": "stream",
          "text": [
            "1.29\n"
          ]
        }
      ]
    },
    {
      "cell_type": "markdown",
      "metadata": {
        "id": "l1mCOcgIcwEJ"
      },
      "source": [
        "### Root mean square error"
      ]
    },
    {
      "cell_type": "code",
      "metadata": {
        "id": "bh42GFgZcwEK"
      },
      "source": [
        "import math"
      ],
      "execution_count": null,
      "outputs": []
    },
    {
      "cell_type": "code",
      "metadata": {
        "id": "aVEtejYZcwEK"
      },
      "source": [
        "def rmse(X,Y):\n",
        "    if len(X) == len(Y):\n",
        "        squares = sum([(x-y)**2 for x,y in zip(X,Y)])\n",
        "        return math.sqrt(squares/len(X))\n",
        "    else:\n",
        "        return 'Vector lengths should be equal.'        "
      ],
      "execution_count": null,
      "outputs": []
    },
    {
      "cell_type": "code",
      "metadata": {
        "id": "vzvpy7VPcwEK",
        "outputId": "85bcb849-6016-42c9-ce4b-71ad189f20f3"
      },
      "source": [
        "print(rmse([1,3,5,2,4,1,6], [2,3,1,4,7,1,1]))"
      ],
      "execution_count": null,
      "outputs": [
        {
          "name": "stdout",
          "output_type": "stream",
          "text": [
            "2.8030595529069404\n"
          ]
        }
      ]
    },
    {
      "cell_type": "markdown",
      "metadata": {
        "id": "ZWMX6GgPcwEL"
      },
      "source": [
        "### Remove duplicates\n",
        "Remove duplicates in list. The list is not sorted and the order of elements from the original list should be preserved.\n",
        "\n",
        "$[1, 2, 3, 1] => [1, 2, 3]$\n",
        "\n",
        "$[1, 3, 2, 1, 5, 3, 5, 1, 4] => [1, 3, 2, 5, 4]$"
      ]
    },
    {
      "cell_type": "code",
      "metadata": {
        "id": "n3HeTvkMcwEM"
      },
      "source": [
        "def remove_dupl(x):\n",
        "    new = []\n",
        "    for i in x:\n",
        "        if i not in new:\n",
        "            new.append(i)\n",
        "    return new"
      ],
      "execution_count": null,
      "outputs": []
    },
    {
      "cell_type": "code",
      "metadata": {
        "id": "CddLwh_4cwEM",
        "outputId": "1eb28ddc-ea20-473d-bdac-d98364a39c7c"
      },
      "source": [
        "print(remove_dupl([1, 3, 2, 1, 5, 3, 5, 1, 4]))"
      ],
      "execution_count": null,
      "outputs": [
        {
          "name": "stdout",
          "output_type": "stream",
          "text": [
            "[1, 3, 2, 5, 4]\n"
          ]
        }
      ]
    },
    {
      "cell_type": "markdown",
      "metadata": {
        "id": "Aq6MljivcwEM"
      },
      "source": [
        "### Count\n",
        "\n",
        "Count how many times each element in a list occurs.\n",
        "\n",
        "$[1, 3, 2, 1, 5, 3, 5, 1, 4] =>$\n",
        "\n",
        "- 1: 3 times\n",
        "- 3: 2 times etc."
      ]
    },
    {
      "cell_type": "code",
      "metadata": {
        "id": "ZxvK5wG3cwEN"
      },
      "source": [
        "import pprint"
      ],
      "execution_count": null,
      "outputs": []
    },
    {
      "cell_type": "code",
      "metadata": {
        "id": "ZBjeCO9lcwEN"
      },
      "source": [
        "def count_elem(x):\n",
        "    d = dict()\n",
        "    for i in x:\n",
        "        d[i] = d.get(i,0) +1\n",
        "    return d"
      ],
      "execution_count": null,
      "outputs": []
    },
    {
      "cell_type": "code",
      "metadata": {
        "id": "2Pt9zUcGcwEO",
        "outputId": "59b32a64-5e2e-4db7-bb26-c9c8ce885537"
      },
      "source": [
        "pprint.pprint(count_elem([1, 3, 2, 1, 5, 3, 5, 1, 4]))"
      ],
      "execution_count": null,
      "outputs": [
        {
          "name": "stdout",
          "output_type": "stream",
          "text": [
            "{1: 3, 2: 1, 3: 2, 4: 1, 5: 2}\n"
          ]
        }
      ]
    },
    {
      "cell_type": "markdown",
      "metadata": {
        "id": "2NYQ0nZXcwEO"
      },
      "source": [
        "### Sort dictionary\n",
        "\n",
        "sort dictionary in descending manner according to values and pick top 3 elements"
      ]
    },
    {
      "cell_type": "code",
      "metadata": {
        "id": "uy0h4dv4cwEO"
      },
      "source": [
        "def top_three(x):\n",
        "    top_keys = sorted(x, reverse = True, key = x.get)[:3]\n",
        "    return {key: x[key] for key in top_keys}"
      ],
      "execution_count": null,
      "outputs": []
    },
    {
      "cell_type": "code",
      "metadata": {
        "id": "sCDdu2lFcwEP",
        "outputId": "3bc2e511-c066-4ea6-9d70-d19c698fd9cf"
      },
      "source": [
        "pprint.pprint(top_three({1: 3, 3: 2, 2: 1, 5: 2, 4: 1}))"
      ],
      "execution_count": null,
      "outputs": [
        {
          "name": "stdout",
          "output_type": "stream",
          "text": [
            "{1: 3, 3: 2, 5: 2}\n"
          ]
        }
      ]
    },
    {
      "cell_type": "markdown",
      "metadata": {
        "id": "vsKrzLT4cwEQ"
      },
      "source": [
        "### Find the first index of the DataFrame after which the DataFrame is without any NaN values"
      ]
    },
    {
      "cell_type": "code",
      "metadata": {
        "id": "ontj9NzccwEQ",
        "outputId": "7d56e38d-6569-46ec-ca82-000c5877bbec"
      },
      "source": [
        "df = pd.read_csv(f'data/fama_french_30_industry_portfolios.csv', parse_dates = ['Date'])\n",
        "df.set_index('Date', inplace = True)\n",
        "df"
      ],
      "execution_count": null,
      "outputs": [
        {
          "data": {
            "text/html": [
              "<div>\n",
              "<style scoped>\n",
              "    .dataframe tbody tr th:only-of-type {\n",
              "        vertical-align: middle;\n",
              "    }\n",
              "\n",
              "    .dataframe tbody tr th {\n",
              "        vertical-align: top;\n",
              "    }\n",
              "\n",
              "    .dataframe thead th {\n",
              "        text-align: right;\n",
              "    }\n",
              "</style>\n",
              "<table border=\"1\" class=\"dataframe\">\n",
              "  <thead>\n",
              "    <tr style=\"text-align: right;\">\n",
              "      <th></th>\n",
              "      <th>Food</th>\n",
              "      <th>Beer</th>\n",
              "      <th>Smoke</th>\n",
              "      <th>Games</th>\n",
              "      <th>Books</th>\n",
              "      <th>Hshld</th>\n",
              "      <th>Clths</th>\n",
              "      <th>Hlth</th>\n",
              "      <th>Chems</th>\n",
              "      <th>Txtls</th>\n",
              "      <th>...</th>\n",
              "      <th>Telcm</th>\n",
              "      <th>Servs</th>\n",
              "      <th>BusEq</th>\n",
              "      <th>Paper</th>\n",
              "      <th>Trans</th>\n",
              "      <th>Whlsl</th>\n",
              "      <th>Rtail</th>\n",
              "      <th>Meals</th>\n",
              "      <th>Fin</th>\n",
              "      <th>Other</th>\n",
              "    </tr>\n",
              "    <tr>\n",
              "      <th>Date</th>\n",
              "      <th></th>\n",
              "      <th></th>\n",
              "      <th></th>\n",
              "      <th></th>\n",
              "      <th></th>\n",
              "      <th></th>\n",
              "      <th></th>\n",
              "      <th></th>\n",
              "      <th></th>\n",
              "      <th></th>\n",
              "      <th></th>\n",
              "      <th></th>\n",
              "      <th></th>\n",
              "      <th></th>\n",
              "      <th></th>\n",
              "      <th></th>\n",
              "      <th></th>\n",
              "      <th></th>\n",
              "      <th></th>\n",
              "      <th></th>\n",
              "      <th></th>\n",
              "    </tr>\n",
              "  </thead>\n",
              "  <tbody>\n",
              "    <tr>\n",
              "      <th>1926-07-01</th>\n",
              "      <td>0.05</td>\n",
              "      <td>-1.39</td>\n",
              "      <td>0.00</td>\n",
              "      <td>0.47</td>\n",
              "      <td>-0.10</td>\n",
              "      <td>NaN</td>\n",
              "      <td>0.12</td>\n",
              "      <td>NaN</td>\n",
              "      <td>0.57</td>\n",
              "      <td>0.18</td>\n",
              "      <td>...</td>\n",
              "      <td>-0.02</td>\n",
              "      <td>NaN</td>\n",
              "      <td>NaN</td>\n",
              "      <td>NaN</td>\n",
              "      <td>NaN</td>\n",
              "      <td>NaN</td>\n",
              "      <td>-0.02</td>\n",
              "      <td>0.27</td>\n",
              "      <td>0.60</td>\n",
              "      <td>-1.66</td>\n",
              "    </tr>\n",
              "    <tr>\n",
              "      <th>1926-07-02</th>\n",
              "      <td>0.10</td>\n",
              "      <td>NaN</td>\n",
              "      <td>0.70</td>\n",
              "      <td>0.13</td>\n",
              "      <td>NaN</td>\n",
              "      <td>-0.34</td>\n",
              "      <td>-0.35</td>\n",
              "      <td>0.13</td>\n",
              "      <td>0.98</td>\n",
              "      <td>0.36</td>\n",
              "      <td>...</td>\n",
              "      <td>0.26</td>\n",
              "      <td>0.08</td>\n",
              "      <td>NaN</td>\n",
              "      <td>1.07</td>\n",
              "      <td>0.07</td>\n",
              "      <td>0.00</td>\n",
              "      <td>0.01</td>\n",
              "      <td>NaN</td>\n",
              "      <td>-0.02</td>\n",
              "      <td>NaN</td>\n",
              "    </tr>\n",
              "    <tr>\n",
              "      <th>1926-07-06</th>\n",
              "      <td>0.08</td>\n",
              "      <td>NaN</td>\n",
              "      <td>0.50</td>\n",
              "      <td>NaN</td>\n",
              "      <td>1.51</td>\n",
              "      <td>NaN</td>\n",
              "      <td>0.41</td>\n",
              "      <td>NaN</td>\n",
              "      <td>NaN</td>\n",
              "      <td>NaN</td>\n",
              "      <td>...</td>\n",
              "      <td>0.17</td>\n",
              "      <td>-0.19</td>\n",
              "      <td>0.56</td>\n",
              "      <td>0.73</td>\n",
              "      <td>NaN</td>\n",
              "      <td>0.77</td>\n",
              "      <td>-0.22</td>\n",
              "      <td>-0.67</td>\n",
              "      <td>0.08</td>\n",
              "      <td>NaN</td>\n",
              "    </tr>\n",
              "    <tr>\n",
              "      <th>1926-07-07</th>\n",
              "      <td>0.58</td>\n",
              "      <td>NaN</td>\n",
              "      <td>-0.12</td>\n",
              "      <td>-0.09</td>\n",
              "      <td>NaN</td>\n",
              "      <td>-0.22</td>\n",
              "      <td>0.16</td>\n",
              "      <td>0.33</td>\n",
              "      <td>0.80</td>\n",
              "      <td>0.24</td>\n",
              "      <td>...</td>\n",
              "      <td>NaN</td>\n",
              "      <td>1.38</td>\n",
              "      <td>-0.52</td>\n",
              "      <td>NaN</td>\n",
              "      <td>NaN</td>\n",
              "      <td>-3.21</td>\n",
              "      <td>-0.57</td>\n",
              "      <td>-0.70</td>\n",
              "      <td>-0.18</td>\n",
              "      <td>NaN</td>\n",
              "    </tr>\n",
              "    <tr>\n",
              "      <th>1926-07-08</th>\n",
              "      <td>0.95</td>\n",
              "      <td>-0.15</td>\n",
              "      <td>0.30</td>\n",
              "      <td>0.19</td>\n",
              "      <td>0.00</td>\n",
              "      <td>-0.01</td>\n",
              "      <td>0.79</td>\n",
              "      <td>NaN</td>\n",
              "      <td>-0.13</td>\n",
              "      <td>0.64</td>\n",
              "      <td>...</td>\n",
              "      <td>NaN</td>\n",
              "      <td>-0.43</td>\n",
              "      <td>0.52</td>\n",
              "      <td>-0.39</td>\n",
              "      <td>0.45</td>\n",
              "      <td>-1.10</td>\n",
              "      <td>-0.38</td>\n",
              "      <td>0.33</td>\n",
              "      <td>NaN</td>\n",
              "      <td>0.98</td>\n",
              "    </tr>\n",
              "    <tr>\n",
              "      <th>...</th>\n",
              "      <td>...</td>\n",
              "      <td>...</td>\n",
              "      <td>...</td>\n",
              "      <td>...</td>\n",
              "      <td>...</td>\n",
              "      <td>...</td>\n",
              "      <td>...</td>\n",
              "      <td>...</td>\n",
              "      <td>...</td>\n",
              "      <td>...</td>\n",
              "      <td>...</td>\n",
              "      <td>...</td>\n",
              "      <td>...</td>\n",
              "      <td>...</td>\n",
              "      <td>...</td>\n",
              "      <td>...</td>\n",
              "      <td>...</td>\n",
              "      <td>...</td>\n",
              "      <td>...</td>\n",
              "      <td>...</td>\n",
              "      <td>...</td>\n",
              "    </tr>\n",
              "    <tr>\n",
              "      <th>2020-12-24</th>\n",
              "      <td>0.52</td>\n",
              "      <td>0.37</td>\n",
              "      <td>-0.02</td>\n",
              "      <td>-0.25</td>\n",
              "      <td>1.28</td>\n",
              "      <td>0.87</td>\n",
              "      <td>-0.41</td>\n",
              "      <td>-0.05</td>\n",
              "      <td>0.50</td>\n",
              "      <td>0.73</td>\n",
              "      <td>...</td>\n",
              "      <td>0.29</td>\n",
              "      <td>0.27</td>\n",
              "      <td>0.55</td>\n",
              "      <td>0.45</td>\n",
              "      <td>-0.10</td>\n",
              "      <td>0.03</td>\n",
              "      <td>-0.08</td>\n",
              "      <td>-0.05</td>\n",
              "      <td>0.23</td>\n",
              "      <td>0.31</td>\n",
              "    </tr>\n",
              "    <tr>\n",
              "      <th>2020-12-28</th>\n",
              "      <td>0.51</td>\n",
              "      <td>1.01</td>\n",
              "      <td>-0.24</td>\n",
              "      <td>-0.05</td>\n",
              "      <td>1.78</td>\n",
              "      <td>0.36</td>\n",
              "      <td>0.56</td>\n",
              "      <td>-0.49</td>\n",
              "      <td>-0.70</td>\n",
              "      <td>1.19</td>\n",
              "      <td>...</td>\n",
              "      <td>0.95</td>\n",
              "      <td>0.27</td>\n",
              "      <td>1.49</td>\n",
              "      <td>-0.23</td>\n",
              "      <td>-0.03</td>\n",
              "      <td>0.64</td>\n",
              "      <td>1.78</td>\n",
              "      <td>0.92</td>\n",
              "      <td>0.80</td>\n",
              "      <td>0.40</td>\n",
              "    </tr>\n",
              "    <tr>\n",
              "      <th>2020-12-29</th>\n",
              "      <td>-0.24</td>\n",
              "      <td>0.22</td>\n",
              "      <td>-1.16</td>\n",
              "      <td>0.40</td>\n",
              "      <td>-0.56</td>\n",
              "      <td>-0.39</td>\n",
              "      <td>-0.70</td>\n",
              "      <td>-0.02</td>\n",
              "      <td>-0.31</td>\n",
              "      <td>-0.86</td>\n",
              "      <td>...</td>\n",
              "      <td>0.09</td>\n",
              "      <td>-0.56</td>\n",
              "      <td>-0.77</td>\n",
              "      <td>-0.34</td>\n",
              "      <td>-0.63</td>\n",
              "      <td>-0.88</td>\n",
              "      <td>0.22</td>\n",
              "      <td>-0.18</td>\n",
              "      <td>-0.37</td>\n",
              "      <td>-0.09</td>\n",
              "    </tr>\n",
              "    <tr>\n",
              "      <th>2020-12-30</th>\n",
              "      <td>0.12</td>\n",
              "      <td>0.01</td>\n",
              "      <td>-0.29</td>\n",
              "      <td>0.02</td>\n",
              "      <td>0.33</td>\n",
              "      <td>-0.17</td>\n",
              "      <td>0.50</td>\n",
              "      <td>0.28</td>\n",
              "      <td>1.18</td>\n",
              "      <td>2.01</td>\n",
              "      <td>...</td>\n",
              "      <td>0.00</td>\n",
              "      <td>-0.37</td>\n",
              "      <td>0.17</td>\n",
              "      <td>0.48</td>\n",
              "      <td>0.41</td>\n",
              "      <td>0.34</td>\n",
              "      <td>-0.46</td>\n",
              "      <td>0.02</td>\n",
              "      <td>0.66</td>\n",
              "      <td>0.40</td>\n",
              "    </tr>\n",
              "    <tr>\n",
              "      <th>2020-12-31</th>\n",
              "      <td>0.74</td>\n",
              "      <td>0.57</td>\n",
              "      <td>1.24</td>\n",
              "      <td>1.14</td>\n",
              "      <td>0.18</td>\n",
              "      <td>0.79</td>\n",
              "      <td>-0.34</td>\n",
              "      <td>0.52</td>\n",
              "      <td>0.52</td>\n",
              "      <td>-0.62</td>\n",
              "      <td>...</td>\n",
              "      <td>0.94</td>\n",
              "      <td>0.37</td>\n",
              "      <td>0.16</td>\n",
              "      <td>0.40</td>\n",
              "      <td>-0.05</td>\n",
              "      <td>0.43</td>\n",
              "      <td>-0.39</td>\n",
              "      <td>0.89</td>\n",
              "      <td>1.09</td>\n",
              "      <td>0.65</td>\n",
              "    </tr>\n",
              "  </tbody>\n",
              "</table>\n",
              "<p>24896 rows × 30 columns</p>\n",
              "</div>"
            ],
            "text/plain": [
              "            Food  Beer  Smoke  Games  Books  Hshld  Clths  Hlth  Chems  Txtls  \\\n",
              "Date                                                                            \n",
              "1926-07-01  0.05 -1.39   0.00   0.47  -0.10    NaN   0.12   NaN   0.57   0.18   \n",
              "1926-07-02  0.10   NaN   0.70   0.13    NaN  -0.34  -0.35  0.13   0.98   0.36   \n",
              "1926-07-06  0.08   NaN   0.50    NaN   1.51    NaN   0.41   NaN    NaN    NaN   \n",
              "1926-07-07  0.58   NaN  -0.12  -0.09    NaN  -0.22   0.16  0.33   0.80   0.24   \n",
              "1926-07-08  0.95 -0.15   0.30   0.19   0.00  -0.01   0.79   NaN  -0.13   0.64   \n",
              "...          ...   ...    ...    ...    ...    ...    ...   ...    ...    ...   \n",
              "2020-12-24  0.52  0.37  -0.02  -0.25   1.28   0.87  -0.41 -0.05   0.50   0.73   \n",
              "2020-12-28  0.51  1.01  -0.24  -0.05   1.78   0.36   0.56 -0.49  -0.70   1.19   \n",
              "2020-12-29 -0.24  0.22  -1.16   0.40  -0.56  -0.39  -0.70 -0.02  -0.31  -0.86   \n",
              "2020-12-30  0.12  0.01  -0.29   0.02   0.33  -0.17   0.50  0.28   1.18   2.01   \n",
              "2020-12-31  0.74  0.57   1.24   1.14   0.18   0.79  -0.34  0.52   0.52  -0.62   \n",
              "\n",
              "            ...  Telcm  Servs  BusEq  Paper  Trans  Whlsl  Rtail  Meals   Fin  \\\n",
              "Date        ...                                                                 \n",
              "1926-07-01  ...  -0.02    NaN    NaN    NaN    NaN    NaN  -0.02   0.27  0.60   \n",
              "1926-07-02  ...   0.26   0.08    NaN   1.07   0.07   0.00   0.01    NaN -0.02   \n",
              "1926-07-06  ...   0.17  -0.19   0.56   0.73    NaN   0.77  -0.22  -0.67  0.08   \n",
              "1926-07-07  ...    NaN   1.38  -0.52    NaN    NaN  -3.21  -0.57  -0.70 -0.18   \n",
              "1926-07-08  ...    NaN  -0.43   0.52  -0.39   0.45  -1.10  -0.38   0.33   NaN   \n",
              "...         ...    ...    ...    ...    ...    ...    ...    ...    ...   ...   \n",
              "2020-12-24  ...   0.29   0.27   0.55   0.45  -0.10   0.03  -0.08  -0.05  0.23   \n",
              "2020-12-28  ...   0.95   0.27   1.49  -0.23  -0.03   0.64   1.78   0.92  0.80   \n",
              "2020-12-29  ...   0.09  -0.56  -0.77  -0.34  -0.63  -0.88   0.22  -0.18 -0.37   \n",
              "2020-12-30  ...   0.00  -0.37   0.17   0.48   0.41   0.34  -0.46   0.02  0.66   \n",
              "2020-12-31  ...   0.94   0.37   0.16   0.40  -0.05   0.43  -0.39   0.89  1.09   \n",
              "\n",
              "            Other  \n",
              "Date               \n",
              "1926-07-01  -1.66  \n",
              "1926-07-02    NaN  \n",
              "1926-07-06    NaN  \n",
              "1926-07-07    NaN  \n",
              "1926-07-08   0.98  \n",
              "...           ...  \n",
              "2020-12-24   0.31  \n",
              "2020-12-28   0.40  \n",
              "2020-12-29  -0.09  \n",
              "2020-12-30   0.40  \n",
              "2020-12-31   0.65  \n",
              "\n",
              "[24896 rows x 30 columns]"
            ]
          },
          "execution_count": 3,
          "metadata": {},
          "output_type": "execute_result"
        }
      ]
    },
    {
      "cell_type": "code",
      "metadata": {
        "id": "rjW2uiQOcwEQ",
        "outputId": "9ff86554-748c-433f-f79e-2f54472b8738"
      },
      "source": [
        "sns.heatmap(df, mask=df.isnull())"
      ],
      "execution_count": null,
      "outputs": [
        {
          "data": {
            "text/plain": [
              "<AxesSubplot:ylabel='Date'>"
            ]
          },
          "execution_count": 5,
          "metadata": {},
          "output_type": "execute_result"
        },
        {
          "data": {
            "image/png": "[encoded data removed]",
            "text/plain": [
              "<Figure size 432x288 with 2 Axes>"
            ]
          },
          "metadata": {
            "needs_background": "light"
          },
          "output_type": "display_data"
        }
      ]
    },
    {
      "cell_type": "markdown",
      "metadata": {
        "id": "NznATnhCcwER"
      },
      "source": [
        "Above heatmap for NaN values in `df` shows that they are distributed in the top part of `df` (earlier years), but there are no more NaN entries after a certain index (date). <br> \n",
        "\n",
        "- Write a function to find the first date for a DataFrame `df`, after which there's no more missing entries.\n",
        "- Then return a cleaned `df` starting from that date."
      ]
    },
    {
      "cell_type": "code",
      "metadata": {
        "id": "1pRaIbnAcwER"
      },
      "source": [
        "def findFirstDate(df):\n",
        "    a = df[::-1]                 # df row reversed to 'a'\n",
        "    b = a.isnull()               # check if 'a' entries are null and get 'b' (Boolean)\n",
        "    c = b[b==1].any(axis=1)      # checking at least 1 null (True) value across 'b' columns\n",
        "    date = b[c].index[0]         # applying 'c' mask to 'b' and extracting 1st index to get date\n",
        "    return df[df.index > date]   "
      ],
      "execution_count": null,
      "outputs": []
    },
    {
      "cell_type": "code",
      "metadata": {
        "id": "C30uYIYYcwES",
        "outputId": "7a16fb47-b443-4e1d-d80a-f71f8b7d1df5"
      },
      "source": [
        "findFirstDate(df)"
      ],
      "execution_count": null,
      "outputs": [
        {
          "data": {
            "text/html": [
              "<div>\n",
              "<style scoped>\n",
              "    .dataframe tbody tr th:only-of-type {\n",
              "        vertical-align: middle;\n",
              "    }\n",
              "\n",
              "    .dataframe tbody tr th {\n",
              "        vertical-align: top;\n",
              "    }\n",
              "\n",
              "    .dataframe thead th {\n",
              "        text-align: right;\n",
              "    }\n",
              "</style>\n",
              "<table border=\"1\" class=\"dataframe\">\n",
              "  <thead>\n",
              "    <tr style=\"text-align: right;\">\n",
              "      <th></th>\n",
              "      <th>Food</th>\n",
              "      <th>Beer</th>\n",
              "      <th>Smoke</th>\n",
              "      <th>Games</th>\n",
              "      <th>Books</th>\n",
              "      <th>Hshld</th>\n",
              "      <th>Clths</th>\n",
              "      <th>Hlth</th>\n",
              "      <th>Chems</th>\n",
              "      <th>Txtls</th>\n",
              "      <th>...</th>\n",
              "      <th>Telcm</th>\n",
              "      <th>Servs</th>\n",
              "      <th>BusEq</th>\n",
              "      <th>Paper</th>\n",
              "      <th>Trans</th>\n",
              "      <th>Whlsl</th>\n",
              "      <th>Rtail</th>\n",
              "      <th>Meals</th>\n",
              "      <th>Fin</th>\n",
              "      <th>Other</th>\n",
              "    </tr>\n",
              "    <tr>\n",
              "      <th>Date</th>\n",
              "      <th></th>\n",
              "      <th></th>\n",
              "      <th></th>\n",
              "      <th></th>\n",
              "      <th></th>\n",
              "      <th></th>\n",
              "      <th></th>\n",
              "      <th></th>\n",
              "      <th></th>\n",
              "      <th></th>\n",
              "      <th></th>\n",
              "      <th></th>\n",
              "      <th></th>\n",
              "      <th></th>\n",
              "      <th></th>\n",
              "      <th></th>\n",
              "      <th></th>\n",
              "      <th></th>\n",
              "      <th></th>\n",
              "      <th></th>\n",
              "      <th></th>\n",
              "    </tr>\n",
              "  </thead>\n",
              "  <tbody>\n",
              "    <tr>\n",
              "      <th>1965-11-11</th>\n",
              "      <td>-0.14</td>\n",
              "      <td>-0.53</td>\n",
              "      <td>0.22</td>\n",
              "      <td>2.58</td>\n",
              "      <td>0.10</td>\n",
              "      <td>0.46</td>\n",
              "      <td>-0.15</td>\n",
              "      <td>0.12</td>\n",
              "      <td>0.05</td>\n",
              "      <td>-0.17</td>\n",
              "      <td>...</td>\n",
              "      <td>0.35</td>\n",
              "      <td>0.15</td>\n",
              "      <td>0.58</td>\n",
              "      <td>-0.02</td>\n",
              "      <td>0.15</td>\n",
              "      <td>0.40</td>\n",
              "      <td>0.39</td>\n",
              "      <td>0.02</td>\n",
              "      <td>0.23</td>\n",
              "      <td>-0.07</td>\n",
              "    </tr>\n",
              "    <tr>\n",
              "      <th>1965-11-12</th>\n",
              "      <td>0.17</td>\n",
              "      <td>0.30</td>\n",
              "      <td>0.66</td>\n",
              "      <td>3.21</td>\n",
              "      <td>0.52</td>\n",
              "      <td>0.37</td>\n",
              "      <td>0.52</td>\n",
              "      <td>0.45</td>\n",
              "      <td>0.05</td>\n",
              "      <td>0.53</td>\n",
              "      <td>...</td>\n",
              "      <td>0.74</td>\n",
              "      <td>0.16</td>\n",
              "      <td>1.40</td>\n",
              "      <td>0.11</td>\n",
              "      <td>0.48</td>\n",
              "      <td>0.51</td>\n",
              "      <td>0.47</td>\n",
              "      <td>0.77</td>\n",
              "      <td>0.17</td>\n",
              "      <td>1.61</td>\n",
              "    </tr>\n",
              "    <tr>\n",
              "      <th>1965-11-15</th>\n",
              "      <td>0.22</td>\n",
              "      <td>-0.23</td>\n",
              "      <td>0.21</td>\n",
              "      <td>0.78</td>\n",
              "      <td>0.65</td>\n",
              "      <td>0.13</td>\n",
              "      <td>0.28</td>\n",
              "      <td>0.20</td>\n",
              "      <td>-0.04</td>\n",
              "      <td>1.48</td>\n",
              "      <td>...</td>\n",
              "      <td>-0.08</td>\n",
              "      <td>0.06</td>\n",
              "      <td>0.95</td>\n",
              "      <td>-0.05</td>\n",
              "      <td>-0.07</td>\n",
              "      <td>1.69</td>\n",
              "      <td>0.53</td>\n",
              "      <td>-0.57</td>\n",
              "      <td>-0.14</td>\n",
              "      <td>0.62</td>\n",
              "    </tr>\n",
              "    <tr>\n",
              "      <th>1965-11-16</th>\n",
              "      <td>-0.29</td>\n",
              "      <td>-0.68</td>\n",
              "      <td>-0.56</td>\n",
              "      <td>-0.10</td>\n",
              "      <td>0.28</td>\n",
              "      <td>0.62</td>\n",
              "      <td>0.41</td>\n",
              "      <td>-0.75</td>\n",
              "      <td>-0.45</td>\n",
              "      <td>0.04</td>\n",
              "      <td>...</td>\n",
              "      <td>-0.89</td>\n",
              "      <td>0.22</td>\n",
              "      <td>0.59</td>\n",
              "      <td>0.05</td>\n",
              "      <td>0.06</td>\n",
              "      <td>0.67</td>\n",
              "      <td>0.35</td>\n",
              "      <td>-0.35</td>\n",
              "      <td>0.11</td>\n",
              "      <td>-0.32</td>\n",
              "    </tr>\n",
              "    <tr>\n",
              "      <th>1965-11-17</th>\n",
              "      <td>-0.10</td>\n",
              "      <td>-0.12</td>\n",
              "      <td>-0.78</td>\n",
              "      <td>-1.14</td>\n",
              "      <td>0.40</td>\n",
              "      <td>0.43</td>\n",
              "      <td>-0.53</td>\n",
              "      <td>-0.48</td>\n",
              "      <td>0.11</td>\n",
              "      <td>0.42</td>\n",
              "      <td>...</td>\n",
              "      <td>2.50</td>\n",
              "      <td>-0.30</td>\n",
              "      <td>-0.37</td>\n",
              "      <td>0.12</td>\n",
              "      <td>-0.13</td>\n",
              "      <td>0.15</td>\n",
              "      <td>-0.24</td>\n",
              "      <td>0.62</td>\n",
              "      <td>0.30</td>\n",
              "      <td>0.78</td>\n",
              "    </tr>\n",
              "    <tr>\n",
              "      <th>...</th>\n",
              "      <td>...</td>\n",
              "      <td>...</td>\n",
              "      <td>...</td>\n",
              "      <td>...</td>\n",
              "      <td>...</td>\n",
              "      <td>...</td>\n",
              "      <td>...</td>\n",
              "      <td>...</td>\n",
              "      <td>...</td>\n",
              "      <td>...</td>\n",
              "      <td>...</td>\n",
              "      <td>...</td>\n",
              "      <td>...</td>\n",
              "      <td>...</td>\n",
              "      <td>...</td>\n",
              "      <td>...</td>\n",
              "      <td>...</td>\n",
              "      <td>...</td>\n",
              "      <td>...</td>\n",
              "      <td>...</td>\n",
              "      <td>...</td>\n",
              "    </tr>\n",
              "    <tr>\n",
              "      <th>2020-12-24</th>\n",
              "      <td>0.52</td>\n",
              "      <td>0.37</td>\n",
              "      <td>-0.02</td>\n",
              "      <td>-0.25</td>\n",
              "      <td>1.28</td>\n",
              "      <td>0.87</td>\n",
              "      <td>-0.41</td>\n",
              "      <td>-0.05</td>\n",
              "      <td>0.50</td>\n",
              "      <td>0.73</td>\n",
              "      <td>...</td>\n",
              "      <td>0.29</td>\n",
              "      <td>0.27</td>\n",
              "      <td>0.55</td>\n",
              "      <td>0.45</td>\n",
              "      <td>-0.10</td>\n",
              "      <td>0.03</td>\n",
              "      <td>-0.08</td>\n",
              "      <td>-0.05</td>\n",
              "      <td>0.23</td>\n",
              "      <td>0.31</td>\n",
              "    </tr>\n",
              "    <tr>\n",
              "      <th>2020-12-28</th>\n",
              "      <td>0.51</td>\n",
              "      <td>1.01</td>\n",
              "      <td>-0.24</td>\n",
              "      <td>-0.05</td>\n",
              "      <td>1.78</td>\n",
              "      <td>0.36</td>\n",
              "      <td>0.56</td>\n",
              "      <td>-0.49</td>\n",
              "      <td>-0.70</td>\n",
              "      <td>1.19</td>\n",
              "      <td>...</td>\n",
              "      <td>0.95</td>\n",
              "      <td>0.27</td>\n",
              "      <td>1.49</td>\n",
              "      <td>-0.23</td>\n",
              "      <td>-0.03</td>\n",
              "      <td>0.64</td>\n",
              "      <td>1.78</td>\n",
              "      <td>0.92</td>\n",
              "      <td>0.80</td>\n",
              "      <td>0.40</td>\n",
              "    </tr>\n",
              "    <tr>\n",
              "      <th>2020-12-29</th>\n",
              "      <td>-0.24</td>\n",
              "      <td>0.22</td>\n",
              "      <td>-1.16</td>\n",
              "      <td>0.40</td>\n",
              "      <td>-0.56</td>\n",
              "      <td>-0.39</td>\n",
              "      <td>-0.70</td>\n",
              "      <td>-0.02</td>\n",
              "      <td>-0.31</td>\n",
              "      <td>-0.86</td>\n",
              "      <td>...</td>\n",
              "      <td>0.09</td>\n",
              "      <td>-0.56</td>\n",
              "      <td>-0.77</td>\n",
              "      <td>-0.34</td>\n",
              "      <td>-0.63</td>\n",
              "      <td>-0.88</td>\n",
              "      <td>0.22</td>\n",
              "      <td>-0.18</td>\n",
              "      <td>-0.37</td>\n",
              "      <td>-0.09</td>\n",
              "    </tr>\n",
              "    <tr>\n",
              "      <th>2020-12-30</th>\n",
              "      <td>0.12</td>\n",
              "      <td>0.01</td>\n",
              "      <td>-0.29</td>\n",
              "      <td>0.02</td>\n",
              "      <td>0.33</td>\n",
              "      <td>-0.17</td>\n",
              "      <td>0.50</td>\n",
              "      <td>0.28</td>\n",
              "      <td>1.18</td>\n",
              "      <td>2.01</td>\n",
              "      <td>...</td>\n",
              "      <td>0.00</td>\n",
              "      <td>-0.37</td>\n",
              "      <td>0.17</td>\n",
              "      <td>0.48</td>\n",
              "      <td>0.41</td>\n",
              "      <td>0.34</td>\n",
              "      <td>-0.46</td>\n",
              "      <td>0.02</td>\n",
              "      <td>0.66</td>\n",
              "      <td>0.40</td>\n",
              "    </tr>\n",
              "    <tr>\n",
              "      <th>2020-12-31</th>\n",
              "      <td>0.74</td>\n",
              "      <td>0.57</td>\n",
              "      <td>1.24</td>\n",
              "      <td>1.14</td>\n",
              "      <td>0.18</td>\n",
              "      <td>0.79</td>\n",
              "      <td>-0.34</td>\n",
              "      <td>0.52</td>\n",
              "      <td>0.52</td>\n",
              "      <td>-0.62</td>\n",
              "      <td>...</td>\n",
              "      <td>0.94</td>\n",
              "      <td>0.37</td>\n",
              "      <td>0.16</td>\n",
              "      <td>0.40</td>\n",
              "      <td>-0.05</td>\n",
              "      <td>0.43</td>\n",
              "      <td>-0.39</td>\n",
              "      <td>0.89</td>\n",
              "      <td>1.09</td>\n",
              "      <td>0.65</td>\n",
              "    </tr>\n",
              "  </tbody>\n",
              "</table>\n",
              "<p>13880 rows × 30 columns</p>\n",
              "</div>"
            ],
            "text/plain": [
              "            Food  Beer  Smoke  Games  Books  Hshld  Clths  Hlth  Chems  Txtls  \\\n",
              "Date                                                                            \n",
              "1965-11-11 -0.14 -0.53   0.22   2.58   0.10   0.46  -0.15  0.12   0.05  -0.17   \n",
              "1965-11-12  0.17  0.30   0.66   3.21   0.52   0.37   0.52  0.45   0.05   0.53   \n",
              "1965-11-15  0.22 -0.23   0.21   0.78   0.65   0.13   0.28  0.20  -0.04   1.48   \n",
              "1965-11-16 -0.29 -0.68  -0.56  -0.10   0.28   0.62   0.41 -0.75  -0.45   0.04   \n",
              "1965-11-17 -0.10 -0.12  -0.78  -1.14   0.40   0.43  -0.53 -0.48   0.11   0.42   \n",
              "...          ...   ...    ...    ...    ...    ...    ...   ...    ...    ...   \n",
              "2020-12-24  0.52  0.37  -0.02  -0.25   1.28   0.87  -0.41 -0.05   0.50   0.73   \n",
              "2020-12-28  0.51  1.01  -0.24  -0.05   1.78   0.36   0.56 -0.49  -0.70   1.19   \n",
              "2020-12-29 -0.24  0.22  -1.16   0.40  -0.56  -0.39  -0.70 -0.02  -0.31  -0.86   \n",
              "2020-12-30  0.12  0.01  -0.29   0.02   0.33  -0.17   0.50  0.28   1.18   2.01   \n",
              "2020-12-31  0.74  0.57   1.24   1.14   0.18   0.79  -0.34  0.52   0.52  -0.62   \n",
              "\n",
              "            ...  Telcm  Servs  BusEq  Paper  Trans  Whlsl  Rtail  Meals   Fin  \\\n",
              "Date        ...                                                                 \n",
              "1965-11-11  ...   0.35   0.15   0.58  -0.02   0.15   0.40   0.39   0.02  0.23   \n",
              "1965-11-12  ...   0.74   0.16   1.40   0.11   0.48   0.51   0.47   0.77  0.17   \n",
              "1965-11-15  ...  -0.08   0.06   0.95  -0.05  -0.07   1.69   0.53  -0.57 -0.14   \n",
              "1965-11-16  ...  -0.89   0.22   0.59   0.05   0.06   0.67   0.35  -0.35  0.11   \n",
              "1965-11-17  ...   2.50  -0.30  -0.37   0.12  -0.13   0.15  -0.24   0.62  0.30   \n",
              "...         ...    ...    ...    ...    ...    ...    ...    ...    ...   ...   \n",
              "2020-12-24  ...   0.29   0.27   0.55   0.45  -0.10   0.03  -0.08  -0.05  0.23   \n",
              "2020-12-28  ...   0.95   0.27   1.49  -0.23  -0.03   0.64   1.78   0.92  0.80   \n",
              "2020-12-29  ...   0.09  -0.56  -0.77  -0.34  -0.63  -0.88   0.22  -0.18 -0.37   \n",
              "2020-12-30  ...   0.00  -0.37   0.17   0.48   0.41   0.34  -0.46   0.02  0.66   \n",
              "2020-12-31  ...   0.94   0.37   0.16   0.40  -0.05   0.43  -0.39   0.89  1.09   \n",
              "\n",
              "            Other  \n",
              "Date               \n",
              "1965-11-11  -0.07  \n",
              "1965-11-12   1.61  \n",
              "1965-11-15   0.62  \n",
              "1965-11-16  -0.32  \n",
              "1965-11-17   0.78  \n",
              "...           ...  \n",
              "2020-12-24   0.31  \n",
              "2020-12-28   0.40  \n",
              "2020-12-29  -0.09  \n",
              "2020-12-30   0.40  \n",
              "2020-12-31   0.65  \n",
              "\n",
              "[13880 rows x 30 columns]"
            ]
          },
          "execution_count": 104,
          "metadata": {},
          "output_type": "execute_result"
        }
      ]
    },
    {
      "cell_type": "markdown",
      "metadata": {
        "id": "A6BdJnZmcwES"
      },
      "source": [
        "### Moving zeros to the end\n",
        "\n",
        "take an array and move all zeros to end without disrupting the array order"
      ]
    },
    {
      "cell_type": "code",
      "metadata": {
        "id": "PPgHTksicwES"
      },
      "source": [
        "def move_zeros_to_end1(A):\n",
        "    return [s for s in A if s] +[0]*A.count(0)\n",
        "\n",
        "def move_zeros_to_end2(A):\n",
        "    return sorted(A, key = lambda x: x==0 )   # and x is not False"
      ],
      "execution_count": null,
      "outputs": []
    },
    {
      "cell_type": "code",
      "metadata": {
        "id": "UACUq9nRcwET",
        "outputId": "6c5a829b-9238-439e-c9ad-dd2b9641506d"
      },
      "source": [
        "print(move_zeros_to_end1([1,2,0,0,4,3,0]))\n",
        "print(move_zeros_to_end2([1,2,0,0,4,3,0]))"
      ],
      "execution_count": null,
      "outputs": [
        {
          "name": "stdout",
          "output_type": "stream",
          "text": [
            "[1, 2, 4, 3, 0, 0, 0]\n",
            "[1, 2, 4, 3, 0, 0, 0]\n"
          ]
        }
      ]
    },
    {
      "cell_type": "markdown",
      "metadata": {
        "id": "NSdjqL_DcwET"
      },
      "source": [
        "### Palindrome\n",
        "\n",
        "Check if a string is a palindrome.\n",
        "- 'madam' => yes\n",
        "- 'ololo' => yes\n",
        "- 'ball' => no"
      ]
    },
    {
      "cell_type": "code",
      "metadata": {
        "id": "jnya9mdKcwET"
      },
      "source": [
        "def check_palindrome(x):\n",
        "    return x == x[::-1]"
      ],
      "execution_count": null,
      "outputs": []
    },
    {
      "cell_type": "markdown",
      "metadata": {
        "id": "-y-I4fkgcwEU"
      },
      "source": [
        "### Maximum sum such that no two elements are adjacent\n",
        "\n",
        "Given an list of positive numbers, find the maximum sum of from its elements, but no 2 numbers in the list should be adjacent. \n",
        " \n",
        "- [3 2 7 10] --> 13 (sum of 3 and 10)  \n",
        "- [3 2 5 10 7] --> 15 (sum of 3, 5 and 7)"
      ]
    },
    {
      "cell_type": "markdown",
      "metadata": {
        "id": "pboVmn1dcwEU"
      },
      "source": [
        "Loop for all elements in list.\n",
        "Maintain two sums incl and excl. \n",
        "\n",
        "`incl` = Max sum including the previous element \n",
        "\n",
        "`excl` = Max sum excluding the previous element\n",
        "\n",
        "then,\n",
        "\n",
        "Max sum excluding the current element = `max(incl, excl)`\n",
        "\n",
        "Max sum including the current element = `excl + current element`"
      ]
    },
    {
      "cell_type": "code",
      "metadata": {
        "id": "dNRaU8ZecwEV"
      },
      "source": [
        "def max_sum(x):\n",
        "    incl = 0 # max sum including previous element\n",
        "    excl = 0 # max sum excluding previous element\n",
        "    \n",
        "    for num in x:\n",
        "        new_excl = max(incl, excl)  # max sum excluding current element\n",
        "        incl = excl + num           # max sum including current element\n",
        "        excl = new_excl\n",
        "        \n",
        "    return max(incl, excl)"
      ],
      "execution_count": null,
      "outputs": []
    },
    {
      "cell_type": "code",
      "metadata": {
        "id": "iPjDNuAJcwEW",
        "outputId": "38349fef-6964-49e5-e3dc-989146a1cbde"
      },
      "source": [
        "print(max_sum([2, 7, 4, -3, -6, 5]))"
      ],
      "execution_count": null,
      "outputs": [
        {
          "name": "stdout",
          "output_type": "stream",
          "text": [
            "12\n"
          ]
        }
      ]
    },
    {
      "cell_type": "markdown",
      "metadata": {
        "id": "mlACKUO5cwEW"
      },
      "source": [
        "### Last non-zero digit of a factorial\n",
        "\n",
        "Given a number n, find the last non-zero digit in n!."
      ]
    },
    {
      "cell_type": "code",
      "metadata": {
        "id": "fMnQjHVZcwEW"
      },
      "source": [
        "def d(n):\n",
        "    \n",
        "    dictionary = {0:1, 1:1, 2:2, 3:6, 4:4, 5:2, 6:2, 7:4, 8:2, 9:8} #last nonzero digits of 0-9 factorials\n",
        "    \n",
        "    if n in dictionary.keys():\n",
        "        return dictionary[n]\n",
        "    \n",
        "    tens_digit_of_n = (n%100)//10\n",
        "    \n",
        "    factor = d(n//5)*d(n%10)\n",
        "    \n",
        "    if tens_digit_of_n%2 == 1:\n",
        "        return (4*factor)%10\n",
        "    else:\n",
        "        return (6*factor)%10"
      ],
      "execution_count": null,
      "outputs": []
    },
    {
      "cell_type": "code",
      "metadata": {
        "id": "zS7RuHt_cwEW",
        "outputId": "6836f012-b227-49e8-9be1-8c1407cdfaa5"
      },
      "source": [
        "print(d(133))"
      ],
      "execution_count": null,
      "outputs": [
        {
          "name": "stdout",
          "output_type": "stream",
          "text": [
            "6\n"
          ]
        }
      ]
    },
    {
      "cell_type": "markdown",
      "metadata": {
        "id": "XHA_5EfBcwEX"
      },
      "source": [
        "### Implement run-length encoding (RLE)\n",
        "\n",
        "- 'aaaabbbccaa' => [('a', 4), ('b', 3), ('c', 2), ('a', 2)]\n",
        "- (Note that there are two groups of 'a')"
      ]
    },
    {
      "cell_type": "code",
      "metadata": {
        "id": "cTbe54bzcwEY",
        "outputId": "9b70ca1b-ada9-4512-a271-6f4b85e806b2"
      },
      "source": [
        "[(x,y) for x,y in itertools.groupby('aaaabbbccaa')]"
      ],
      "execution_count": null,
      "outputs": [
        {
          "data": {
            "text/plain": [
              "[('a', <itertools._grouper at 0x7f95d8095d30>),\n",
              " ('b', <itertools._grouper at 0x7f95d80957b8>),\n",
              " ('c', <itertools._grouper at 0x7f95d8095908>),\n",
              " ('a', <itertools._grouper at 0x7f95d8095cc0>)]"
            ]
          },
          "execution_count": 33,
          "metadata": {},
          "output_type": "execute_result"
        }
      ]
    },
    {
      "cell_type": "code",
      "metadata": {
        "id": "ls88Ft7EcwEY",
        "outputId": "7c48de00-5b36-424f-dd7b-af9d40760f80"
      },
      "source": [
        "[x for x,y in itertools.groupby('aaaabbbccaa')]"
      ],
      "execution_count": null,
      "outputs": [
        {
          "data": {
            "text/plain": [
              "['a', 'b', 'c', 'a']"
            ]
          },
          "execution_count": 34,
          "metadata": {},
          "output_type": "execute_result"
        }
      ]
    },
    {
      "cell_type": "code",
      "metadata": {
        "id": "HJvody_pcwEZ",
        "outputId": "130cb80f-62a7-4915-950b-bc9120e8d576"
      },
      "source": [
        "[list(y) for x,y in itertools.groupby('aaaabbbccaa')]"
      ],
      "execution_count": null,
      "outputs": [
        {
          "data": {
            "text/plain": [
              "[['a', 'a', 'a', 'a'], ['b', 'b', 'b'], ['c', 'c'], ['a', 'a']]"
            ]
          },
          "execution_count": 36,
          "metadata": {},
          "output_type": "execute_result"
        }
      ]
    },
    {
      "cell_type": "code",
      "metadata": {
        "id": "gXk16SxhcwEZ"
      },
      "source": [
        "def rle(x):\n",
        "    return [(x, len(list(y))) for x,y in itertools.groupby(x)]"
      ],
      "execution_count": null,
      "outputs": []
    },
    {
      "cell_type": "code",
      "metadata": {
        "id": "Q-RD4bNRcwEZ",
        "outputId": "de62c2d2-2f4d-4858-f47b-914e4a850312"
      },
      "source": [
        "rle('aaaabbbccaa')"
      ],
      "execution_count": null,
      "outputs": [
        {
          "data": {
            "text/plain": [
              "[('a', 4), ('b', 3), ('c', 2), ('a', 2)]"
            ]
          },
          "execution_count": 42,
          "metadata": {},
          "output_type": "execute_result"
        }
      ]
    },
    {
      "cell_type": "markdown",
      "metadata": {
        "id": "bSJyWGR3cwEa"
      },
      "source": [
        "### Jaccard\n",
        "\n",
        "Calculate the Jaccard similarity between two sets: the size of intersection divided by the size of union.\n",
        "\n",
        "jaccard({'a', 'b', 'c'}, {'a', 'd'}) = 1 / 4"
      ]
    },
    {
      "cell_type": "code",
      "metadata": {
        "id": "e1jHJv4ZcwEa"
      },
      "source": [
        "def jaccard(a,b):\n",
        "    return len(a & b) / len(a | b)"
      ],
      "execution_count": null,
      "outputs": []
    },
    {
      "cell_type": "markdown",
      "metadata": {
        "id": "OqOewL1NcwEa"
      },
      "source": [
        "### Fibonacci\n",
        "\n",
        "Return the n-th Fibonacci number, which is computed using this formula:\n",
        "- F(0) = 0\n",
        "- F(1) = 1\n",
        "- F(n) = F(n-1) + F(n-2)"
      ]
    },
    {
      "cell_type": "code",
      "metadata": {
        "id": "KDEVeFRUcwEb"
      },
      "source": [
        "def fibonacci(n):\n",
        "    a,b = 0,1\n",
        "    for i in range(n):\n",
        "        a, b = b, a+b\n",
        "    return a"
      ],
      "execution_count": null,
      "outputs": []
    },
    {
      "cell_type": "code",
      "metadata": {
        "id": "tvpYUXSNcwEb",
        "outputId": "26242d74-4bc7-4ef7-cce3-f68b66890146"
      },
      "source": [
        "print([fibonacci(x) for x in range(20)])"
      ],
      "execution_count": null,
      "outputs": [
        {
          "name": "stdout",
          "output_type": "stream",
          "text": [
            "[0, 1, 1, 2, 3, 5, 8, 13, 21, 34, 55, 89, 144, 233, 377, 610, 987, 1597, 2584, 4181]\n"
          ]
        }
      ]
    },
    {
      "cell_type": "markdown",
      "metadata": {
        "id": "cYh1Z27YcwEb"
      },
      "source": [
        "### Two sum \n",
        "Given an array and a number N, return True if there are numbers A, B in the array such that A + B = N. Otherwise, return False."
      ]
    },
    {
      "cell_type": "code",
      "metadata": {
        "id": "Dx-vyHMtcwEc"
      },
      "source": [
        "def two_sum(x,a):\n",
        "    \n",
        "    for i in x:\n",
        "        if i >=a:\n",
        "            x.remove(i)\n",
        "    if len(x) != 0:\n",
        "        for pair in list(itertools.combinations(x,2)):\n",
        "            if sum(list(pair)) == a:\n",
        "                return True\n",
        "        return False\n",
        "    else:\n",
        "        return False"
      ],
      "execution_count": null,
      "outputs": []
    },
    {
      "cell_type": "code",
      "metadata": {
        "id": "sB-ZuqPRcwEc",
        "outputId": "e29fa533-e49d-46d4-b681-8b6d0a1e09c2"
      },
      "source": [
        "a = [1,2,3,4,5,6]\n",
        "print(two_sum(a,3))"
      ],
      "execution_count": null,
      "outputs": [
        {
          "name": "stdout",
          "output_type": "stream",
          "text": [
            "True\n"
          ]
        }
      ]
    },
    {
      "cell_type": "code",
      "metadata": {
        "id": "F920AOXScwEc"
      },
      "source": [
        "def two_sum_2(x,a):\n",
        "    for i in x:\n",
        "        b = a - i\n",
        "        x.pop(x.index(a))\n",
        "        \n",
        "        if b in x:\n",
        "            return True\n",
        "        else:\n",
        "            return False"
      ],
      "execution_count": null,
      "outputs": []
    },
    {
      "cell_type": "code",
      "metadata": {
        "id": "pc7pdWr5cwEd",
        "outputId": "f78d3b13-2cd9-4a73-e8f0-6ccfd1e71cd6"
      },
      "source": [
        "print(two_sum_2([1,2,3,4,5,6], 3))"
      ],
      "execution_count": null,
      "outputs": [
        {
          "name": "stdout",
          "output_type": "stream",
          "text": [
            "True\n"
          ]
        }
      ]
    },
    {
      "cell_type": "markdown",
      "metadata": {
        "id": "OZpk7DtocwEd"
      },
      "source": [
        "### Binary search\n",
        "\n",
        "Return the index of a given number in a sorted array or -1 if it’s not there.\n",
        "\n",
        "- [1, 4, 6, 10], 4 => 1\n",
        "- [1, 4, 6, 10], 3 => -1"
      ]
    },
    {
      "cell_type": "code",
      "metadata": {
        "id": "UbVrfA73cwEe"
      },
      "source": [
        "def binary_search(x,a):\n",
        "    l,r = 0, len(x)-1\n",
        "\n",
        "    while l <= r:\n",
        "        mid = (l + r) // 2\n",
        "        if x[mid] == a:\n",
        "            return mid\n",
        "        elif x[mid] < a:\n",
        "            l = mid + 1\n",
        "        else:\n",
        "            r = mid - 1\n",
        "\n",
        "    if r<0 or r>len(x) or x[r] != a:\n",
        "        return -1"
      ],
      "execution_count": null,
      "outputs": []
    },
    {
      "cell_type": "code",
      "metadata": {
        "id": "3kXuzxTHcwEe",
        "outputId": "43be13d3-629f-4e7c-ee58-1a5cb673c19a"
      },
      "source": [
        "binary_search([1, 4, 6, 10], 4)"
      ],
      "execution_count": null,
      "outputs": [
        {
          "data": {
            "text/plain": [
              "1"
            ]
          },
          "execution_count": 71,
          "metadata": {},
          "output_type": "execute_result"
        }
      ]
    },
    {
      "cell_type": "code",
      "metadata": {
        "id": "o_AzFngucwEf",
        "outputId": "0b8a1ff8-7d1d-4748-d5bc-1a29b159b326"
      },
      "source": [
        "binary_search([1, 4, 6, 10], 3)"
      ],
      "execution_count": null,
      "outputs": [
        {
          "data": {
            "text/plain": [
              "-1"
            ]
          },
          "execution_count": 72,
          "metadata": {},
          "output_type": "execute_result"
        }
      ]
    },
    {
      "cell_type": "markdown",
      "metadata": {
        "id": "Nf0xh9JUcwEg"
      },
      "source": [
        "### Bubble sort"
      ]
    },
    {
      "cell_type": "code",
      "metadata": {
        "id": "5cUSvFbPcwEg"
      },
      "source": [
        "def bubblesort(y):\n",
        "    n = len(y)\n",
        "\n",
        "    for i in range(n):\n",
        "        for j in range(i+1,n):\n",
        "            if y[i] > y[j]:\n",
        "                y[i], y[j] = y[j], y[i]\n",
        "    return y"
      ],
      "execution_count": null,
      "outputs": []
    },
    {
      "cell_type": "code",
      "metadata": {
        "id": "X5dlepTNcwEg",
        "outputId": "b1d108eb-e6e5-46ec-a184-cb51fb0973a9"
      },
      "source": [
        "x = [-1,4,6,9,0,8,3,2,1,7]\n",
        "print(f\"Bubble sort algorithm gives {bubblesort(x)}.\")"
      ],
      "execution_count": null,
      "outputs": [
        {
          "name": "stdout",
          "output_type": "stream",
          "text": [
            "Bubble sort algorithm gives [-1, 0, 1, 2, 3, 4, 6, 7, 8, 9].\n"
          ]
        }
      ]
    },
    {
      "cell_type": "markdown",
      "metadata": {
        "id": "TmTx8yhdcwEh"
      },
      "source": [
        "### Quick sort"
      ]
    },
    {
      "cell_type": "code",
      "metadata": {
        "id": "KrPRlPvrcwEh"
      },
      "source": [
        "def quicksort(y):\n",
        "\n",
        "    if len(y) <= 1:\n",
        "        return y\n",
        "    else:\n",
        "        pivot = y.pop()\n",
        "\n",
        "    y_lower = []\n",
        "    y_higher= []\n",
        "\n",
        "    for item in y:\n",
        "        if item > pivot:\n",
        "            y_higher.append(item)\n",
        "        else:\n",
        "            y_lower.append(item)\n",
        "\n",
        "    return quicksort(y_lower) + [pivot] + quicksort(y_higher)"
      ],
      "execution_count": null,
      "outputs": []
    },
    {
      "cell_type": "code",
      "metadata": {
        "id": "vLVGoCihcwEi",
        "outputId": "07852e67-43b0-4d93-9681-fda4e75d2da8"
      },
      "source": [
        "print(f\"Quick sort algorithm gives {quicksort(x)}.\")"
      ],
      "execution_count": null,
      "outputs": [
        {
          "name": "stdout",
          "output_type": "stream",
          "text": [
            "Quick sort algorithm gives [-1, 0, 1, 2, 3, 4, 6, 7, 8, 9].\n"
          ]
        }
      ]
    },
    {
      "cell_type": "markdown",
      "metadata": {
        "id": "m5ONmM-QcwEi"
      },
      "source": [
        "### Addition\n",
        "\n",
        "Implement the addition algorithm from school. Suppose we represent numbers by a list of integers from 0 to 9:\n",
        "\n",
        "- 12 is [1, 2]\n",
        "- 1000 is [1, 0, 0, 0]\n",
        "\n",
        "Implement the “+” operation for this representation\n",
        "\n",
        "- [1, 1] + [1] => [1, 2]\n",
        "- [9, 9] + [2] => [1, 0, 1]"
      ]
    },
    {
      "cell_type": "code",
      "metadata": {
        "id": "DJTWczEgcwEi"
      },
      "source": [
        "def makelist(n):\n",
        "    x = list(str(n))\n",
        "    return [int(z) for z in x]                      # list(map(lambda z:int(z), x))\n",
        "\n",
        "def list_to_num(lst):\n",
        "    str_list = [str(i) for i in lst]\n",
        "    return int(''.join(str_list))\n",
        "\n",
        "def addition_list(lst1,lst2):\n",
        "    return f\"{lst1} + {lst2} = {makelist(list_to_num(lst1) + list_to_num(lst2))}\""
      ],
      "execution_count": null,
      "outputs": []
    },
    {
      "cell_type": "code",
      "metadata": {
        "id": "xm3diLE0cwEk",
        "outputId": "b775d8cd-4c95-404f-8291-e53e69e68128"
      },
      "source": [
        "print(addition_list([9,9], [2])) "
      ],
      "execution_count": null,
      "outputs": [
        {
          "name": "stdout",
          "output_type": "stream",
          "text": [
            "[9, 9] + [2] = [1, 0, 1]\n"
          ]
        }
      ]
    },
    {
      "cell_type": "markdown",
      "metadata": {
        "id": "pFE2mXm6cwEk"
      },
      "source": [
        "### Sort by custom alphabet\n",
        "\n",
        "You’re given a list of words and an alphabet (e.g. a permutation of Latin alphabet). You need to use this alphabet to order words in the list.\n",
        "\n",
        "Example:\n",
        "\n",
        "- Words: ['home', 'oval', 'cat', 'egg', 'network', 'green']\n",
        "- Dictionary: 'bcdfghijklmnpqrstvwxzaeiouy'\n",
        "\n",
        "- Output: ['cat', 'green', 'home', 'network', 'egg', 'oval']"
      ]
    },
    {
      "cell_type": "code",
      "metadata": {
        "id": "-DgOtKTocwEk"
      },
      "source": [
        "def sort_alphabet(dictionary, words):\n",
        "    return sorted(words, key = lambda word: [dictionary.index(w) for w in word])"
      ],
      "execution_count": null,
      "outputs": []
    },
    {
      "cell_type": "code",
      "metadata": {
        "id": "p4HnOZlccwEl",
        "outputId": "500404ed-ec65-43fd-c7ce-2d3b9bd41c4d"
      },
      "source": [
        "x = ['home', 'oval', 'cat', 'egg', 'network', 'green']\n",
        "d = 'bcdfghijklmnpqrstvwxzaeiouy'\n",
        "print(sort_alphabet(d,x))"
      ],
      "execution_count": null,
      "outputs": [
        {
          "name": "stdout",
          "output_type": "stream",
          "text": [
            "['cat', 'green', 'home', 'network', 'egg', 'oval']\n"
          ]
        }
      ]
    },
    {
      "cell_type": "markdown",
      "metadata": {
        "id": "4RlhirH4cwEl"
      },
      "source": [
        "### Maximum Sum Contiguous Subarray\n",
        "\n",
        "You are given an array A of length N, you have to find the largest possible sum of an Subarray, of array A.\n",
        "\n",
        "- [-2, 1, -3, 4, -1, 2, 1, -5, 4] gives 6 as largest sum from the subarray [4, -1, 2, -1]\n"
      ]
    },
    {
      "cell_type": "code",
      "metadata": {
        "id": "eSWhCP2WcwEl"
      },
      "source": [
        "def max_subarray(numbers):\n",
        "    \"\"\"Find a contiguous subarray with the largest sum.\"\"\"\n",
        "    best_sum = 0  # or: float('-inf')\n",
        "    best_start = best_end = 0  # or: None\n",
        "    current_sum = 0\n",
        "    for current_end, x in enumerate(numbers):\n",
        "        if current_sum <= 0:\n",
        "            # Start a new sequence at the current element\n",
        "            current_start = current_end\n",
        "            current_sum = x\n",
        "        else:\n",
        "            # Extend the existing sequence with the current element\n",
        "            current_sum += x\n",
        "\n",
        "        if current_sum > best_sum:\n",
        "            best_sum = current_sum\n",
        "            best_start = current_start\n",
        "            best_end = current_end + 1  # the +1 is to make 'best_end' exclusive\n",
        "\n",
        "    return numbers[best_start: best_end], best_sum"
      ],
      "execution_count": null,
      "outputs": []
    },
    {
      "cell_type": "code",
      "metadata": {
        "id": "7nKKp1sHcwEm",
        "outputId": "2ae7c18b-9516-4443-a629-fb9433b709d1"
      },
      "source": [
        "print(max_subarray([-2, 1, -3, 4, -1, 2, 1, -5, 4]))"
      ],
      "execution_count": null,
      "outputs": [
        {
          "name": "stdout",
          "output_type": "stream",
          "text": [
            "([4, -1, 2, 1], 6)\n"
          ]
        }
      ]
    },
    {
      "cell_type": "markdown",
      "metadata": {
        "id": "8K6NM7VDcwEm"
      },
      "source": [
        "###  Three sum\n",
        "\n",
        "Given an array, and a target value, find all possible combinations of three distinct numbers such that the sum of these three distinct numbers is equal to the target value.\n",
        "\n",
        "- Input: [12, 3, 1, 2, -6, 5, -8, 6], 0\n",
        "- Output: [[-8, 2, 6], [-8, 3, 5], [-6, 1, 5]]"
      ]
    },
    {
      "cell_type": "code",
      "metadata": {
        "id": "755MfCRVcwEn"
      },
      "source": [
        "def threesum(lst, target):\n",
        "    ans = []\n",
        "    import itertools as itl\n",
        "    combs = list(itl.combinations(lst, 3))\n",
        "    for c in combs:\n",
        "        if sum(list(c)) == target:\n",
        "            ans.append(list(c))\n",
        "    return ans"
      ],
      "execution_count": null,
      "outputs": []
    },
    {
      "cell_type": "code",
      "metadata": {
        "id": "G1Vy6YFmcwEn",
        "outputId": "31b2b992-24b7-4d51-e9a2-981cb6427b8d"
      },
      "source": [
        "print(threesum([12, 3, 1, 2, -6, 5, -8, 6], 0))"
      ],
      "execution_count": null,
      "outputs": [
        {
          "name": "stdout",
          "output_type": "stream",
          "text": [
            "[[3, 5, -8], [1, -6, 5], [2, -8, 6]]\n"
          ]
        }
      ]
    },
    {
      "cell_type": "markdown",
      "metadata": {
        "id": "s_7E3xDHcwEo"
      },
      "source": [
        "### Rotate array\n",
        "\n",
        "For example, given\n",
        "\n",
        "A = [3, 8, 9, 7, 6]\n",
        "\n",
        "K = 3\n",
        "\n",
        "the function should return [9, 7, 6, 3, 8]. Three rotations were made:\n",
        "\n",
        "[3, 8, 9, 7, 6] -> [6, 3, 8, 9, 7]\n",
        "\n",
        "[6, 3, 8, 9, 7] -> [7, 6, 3, 8, 9]\n",
        "\n",
        "[7, 6, 3, 8, 9] -> [9, 7, 6, 3, 8]\n"
      ]
    },
    {
      "cell_type": "code",
      "metadata": {
        "id": "iAbmDp93cwEo"
      },
      "source": [
        "def rotate_one(x):\n",
        "\n",
        "    new = [x[-1]]\n",
        "    new.extend([f for f in x[:-1]])\n",
        "    return new\n",
        "\n",
        "\n",
        "def rotate_k(x,k):\n",
        "    for i in range(k):\n",
        "        x = rotate_one(x)\n",
        "    return x"
      ],
      "execution_count": null,
      "outputs": []
    },
    {
      "cell_type": "code",
      "metadata": {
        "id": "ChEfXq4NcwEo",
        "outputId": "5bddc200-6a61-4ce1-856c-f35b46704983"
      },
      "source": [
        "print(rotate_k([1,2,3,4], 3))"
      ],
      "execution_count": null,
      "outputs": [
        {
          "name": "stdout",
          "output_type": "stream",
          "text": [
            "[2, 3, 4, 1]\n"
          ]
        }
      ]
    },
    {
      "cell_type": "markdown",
      "metadata": {
        "id": "RguW97dacwEp"
      },
      "source": [
        "### Write a function:\n",
        "\n",
        "    def solution(A)\n",
        "\n",
        "that, given an array A of N integers, returns the smallest positive integer (greater than 0) that does not occur in A.\n",
        "\n",
        "For example, given A = [1, 3, 6, 4, 1, 2], the function should return 5.\n",
        "\n",
        "Given A = [1, 2, 3], the function should return 4.\n",
        "\n",
        "Given A = [−1, −3], the function should return 1.\n",
        "\n",
        "Write an efficient algorithm for the following assumptions:\n",
        "\n",
        "N is an integer within the range [1..100,000];\n",
        "each element of array A is an integer within the range [−1,000,000..1,000,000]."
      ]
    },
    {
      "cell_type": "code",
      "metadata": {
        "id": "r3kOy5DbcwEq"
      },
      "source": [
        "def solution(A):\n",
        "\n",
        "    if A == []:\n",
        "        return 'NaN'\n",
        "\n",
        "    A.sort()\n",
        "    a = A[0]\n",
        "    b = A[-1]\n",
        "    range_ = range(1,b+1)\n",
        "\n",
        "    for j in range_:\n",
        "        if j not in A:\n",
        "            return j\n",
        "\n",
        "    if a > 1 or b < 0:\n",
        "        return 1\n",
        "    elif b > 0:\n",
        "        return b + 1"
      ],
      "execution_count": null,
      "outputs": []
    },
    {
      "cell_type": "code",
      "metadata": {
        "id": "6DvGtWvqcwEr",
        "outputId": "313dbcbc-d8ad-41bd-8d52-8fb2a5dca46d"
      },
      "source": [
        "print(solution([1, 3, 6, 4, 1, 2]))"
      ],
      "execution_count": null,
      "outputs": [
        {
          "name": "stdout",
          "output_type": "stream",
          "text": [
            "5\n"
          ]
        }
      ]
    },
    {
      "cell_type": "markdown",
      "metadata": {
        "id": "Eo10aIAacwEs"
      },
      "source": [
        "#### Return the sum of the numbers in the array, except ignore sections of numbers starting with a 6 and extending to the next 7 (every 6 will be followed by at least one 7). Return 0 for no numbers.\n",
        "\n",
        "- sum67([1, 2, 2]) → 5\n",
        "- sum67([1, 2, 2, 6, 99, 99, 7]) → 5\n",
        "- sum67([1, 1, 6, 7, 2]) → 4"
      ]
    },
    {
      "cell_type": "code",
      "metadata": {
        "id": "FFvI7iVucwEt"
      },
      "source": [
        "def sum67(nums):\n",
        "    if nums == []:\n",
        "        return 0\n",
        "  \n",
        "    if 6 not in nums:\n",
        "        return sum(nums)\n",
        "  \n",
        "    ind = []\n",
        "  \n",
        "    ind6 = nums.index(6)\n",
        "  \n",
        "    if 7 in nums:\n",
        "        ind7 = nums.index(7)\n",
        "  \n",
        "    j=0\n",
        " \n",
        "    while j <= len(nums)-1:\n",
        "    \n",
        "        if nums[j] == 6:\n",
        "            k = j+1\n",
        "            while nums[k] != 7 and k <= len(nums)-1:\n",
        "                k += 1\n",
        "            ind += list(range(j,k+1))\n",
        "        j += 1\n",
        "    \n",
        "    s = 0\n",
        "  \n",
        "    for i in range(len(nums)):\n",
        "        if i not in ind:\n",
        "            s+=nums[i]\n",
        "    return s"
      ],
      "execution_count": null,
      "outputs": []
    },
    {
      "cell_type": "code",
      "metadata": {
        "id": "Yw_QpQU3cwEu",
        "outputId": "dd1bc199-de55-4745-df2a-5ae4fddb143f"
      },
      "source": [
        "print(sum67([1, 6, 2, 2, 7, 1, 6, 99, 99, 7]))"
      ],
      "execution_count": null,
      "outputs": [
        {
          "name": "stdout",
          "output_type": "stream",
          "text": [
            "2\n"
          ]
        }
      ]
    },
    {
      "cell_type": "markdown",
      "metadata": {
        "id": "VJjjJsxjcwEu"
      },
      "source": [
        "#### Return the sum of the numbers in the array, returning 0 for an empty array. Except the number 13 is very unlucky, so it does not count and numbers that come immediately after a 13 also do not count.\n",
        "\n",
        "- sum13([1, 2, 2, 1]) → 6\n",
        "- sum13([1, 1]) → 2\n",
        "- sum13([1, 2, 2, 1, 13]) → 6"
      ]
    },
    {
      "cell_type": "code",
      "metadata": {
        "id": "vhpwIiG0cwEu"
      },
      "source": [
        "def sum13(nums):\n",
        "  \n",
        "    if nums == []:\n",
        "        return 0\n",
        "  \n",
        "    ind = []\n",
        "  \n",
        "    for j in range(len(nums)):\n",
        "        if nums[j] == 13:\n",
        "            ind.append(j)\n",
        "            if j+1 != len(nums):\n",
        "                ind.append(j+1)\n",
        "  \n",
        "    s = 0\n",
        "  \n",
        "    for i in range(len(nums)):\n",
        "        if i not in ind:\n",
        "            s += nums[i]\n",
        "    return s"
      ],
      "execution_count": null,
      "outputs": []
    },
    {
      "cell_type": "code",
      "metadata": {
        "id": "xuwh_yvycwEv",
        "outputId": "0fdf643d-9c8f-4ae4-956c-76bfbfe0ef49"
      },
      "source": [
        "print(sum13([1, 2, 2, 1, 13]))"
      ],
      "execution_count": null,
      "outputs": [
        {
          "name": "stdout",
          "output_type": "stream",
          "text": [
            "6\n"
          ]
        }
      ]
    },
    {
      "cell_type": "markdown",
      "metadata": {
        "id": "jMNCjGHHcwEv"
      },
      "source": [
        "#### Given 3 int values, a b c, return their sum. However, if one of the values is the same as another of the values, it does not count towards the sum.\n",
        "\n",
        "- lone_sum(1, 2, 3) → 6\n",
        "- lone_sum(3, 2, 3) → 2\n",
        "- lone_sum(3, 3, 3) → 0"
      ]
    },
    {
      "cell_type": "code",
      "metadata": {
        "id": "0D-iSvbOcwEv"
      },
      "source": [
        "def lonesum(a,b,c):\n",
        "    l, s = [a,b,c], 0\n",
        "    for element in l:\n",
        "        if l.count(element) == 1:\n",
        "            s += element\n",
        "    return s"
      ],
      "execution_count": null,
      "outputs": []
    },
    {
      "cell_type": "code",
      "metadata": {
        "id": "hYfkdBgQcwEw",
        "outputId": "85085af7-8a07-4302-d89c-30ffef407a1d"
      },
      "source": [
        "print(lonesum(2,3,3))"
      ],
      "execution_count": null,
      "outputs": [
        {
          "name": "stdout",
          "output_type": "stream",
          "text": [
            "2\n"
          ]
        }
      ]
    },
    {
      "cell_type": "markdown",
      "metadata": {
        "id": "Ud5NQxnbcwEw"
      },
      "source": [
        "#### Add star at the start of each line of text\n",
        "\n",
        "text :\n",
        "Lists of animals\n",
        "Lists of aquarium life\n",
        "Lists of biologists\n",
        "Lists of fruits\n",
        "\n",
        "result:\n",
        "\\* Lists of animals\n",
        "\\* Lists of aquarium life\n",
        "\\* Lists of biologists\n",
        "\\* Lists of fruits"
      ]
    },
    {
      "cell_type": "code",
      "metadata": {
        "id": "RPNkouRCcwEx",
        "outputId": "79f87db3-1d6b-47ba-92f9-b048c1bea847"
      },
      "source": [
        "text = 'Lists of animals\\nLists of aquarium life\\nLists of biologists\\nLists of fruits'\n",
        "\n",
        "lines = text.split('\\n')\n",
        "for i in range(len(lines)):\n",
        "    lines[i] = '* ' + lines[i]\n",
        "text  = '\\n'.join(lines)\n",
        "print(text)"
      ],
      "execution_count": null,
      "outputs": [
        {
          "name": "stdout",
          "output_type": "stream",
          "text": [
            "* Lists of animals\n",
            "* Lists of aquarium life\n",
            "* Lists of biologists\n",
            "* Lists of fruits\n"
          ]
        }
      ]
    },
    {
      "cell_type": "markdown",
      "metadata": {
        "id": "E8cwsoOHcwEx"
      },
      "source": [
        "#### Make a picnic list"
      ]
    },
    {
      "cell_type": "markdown",
      "metadata": {
        "id": "rf9vu240cwEx"
      },
      "source": [
        "Make a readable list from a dictionary"
      ]
    },
    {
      "cell_type": "code",
      "metadata": {
        "id": "pyOKBXmGcwEx"
      },
      "source": [
        "def piciniclist(Dict, leftwidth, rightwidth):\n",
        "    print('Picnic Items'.center(leftwidth+rightwidth, '-'))\n",
        "    for key, value in Dict.items():\n",
        "        print(key.ljust(leftwidth, '.') + str(value).rjust(rightwidth))"
      ],
      "execution_count": null,
      "outputs": []
    },
    {
      "cell_type": "code",
      "metadata": {
        "id": "vz3bcB2VcwEy",
        "outputId": "324f7e43-7ccf-42eb-903d-5725a3b71d02"
      },
      "source": [
        "picnicitems = {'cookies': 20, 'cups': 10, 'sandwiches': 6, 'apples': 12}\n",
        "piciniclist(picnicitems, 15, 5)"
      ],
      "execution_count": null,
      "outputs": [
        {
          "name": "stdout",
          "output_type": "stream",
          "text": [
            "----Picnic Items----\n",
            "cookies........   20\n",
            "cups...........   10\n",
            "sandwiches.....    6\n",
            "apples.........   12\n"
          ]
        }
      ]
    },
    {
      "cell_type": "markdown",
      "metadata": {
        "id": "1FulPZRrcwEy"
      },
      "source": [
        "## Check a pattern in a string\n",
        "\n",
        "locate the phone number in the following text:\n",
        "'Hello I am Adam Lyon. I live in Oregon and my number is 732-734-2345.'"
      ]
    },
    {
      "cell_type": "code",
      "metadata": {
        "id": "o3lXznHdcwEz"
      },
      "source": [
        "import re"
      ],
      "execution_count": null,
      "outputs": []
    },
    {
      "cell_type": "code",
      "metadata": {
        "id": "gqAKsK9wcwEz",
        "outputId": "4fd17d01-e993-42a4-f951-81ab27b2e928"
      },
      "source": [
        "text = 'Hello I am Adam Lyon. I live in Oregon and my house phone number is 732-734-2345. My office number is 234-553-2341.'\n",
        "\n",
        "phone_num_regex = re.compile(r'\\d{3}-\\d{3}-\\d{4}') # regex for USA phone numbers\n",
        "phone_match = phone_num_regex.search(text) # search finds only first apprearance of the pattern\n",
        "phone_match.group()"
      ],
      "execution_count": null,
      "outputs": [
        {
          "data": {
            "text/plain": [
              "'732-734-2345'"
            ]
          },
          "execution_count": 73,
          "metadata": {},
          "output_type": "execute_result"
        }
      ]
    },
    {
      "cell_type": "code",
      "metadata": {
        "id": "u2p1O4AvcwEz",
        "outputId": "a4742a3e-7bbe-41e2-d127-5b277f6f508c"
      },
      "source": [
        "phone_match = phone_num_regex.findall(text) # search finds only first apprearance of the pattern\n",
        "phone_match"
      ],
      "execution_count": null,
      "outputs": [
        {
          "data": {
            "text/plain": [
              "['732-734-2345', '234-553-2341']"
            ]
          },
          "execution_count": 74,
          "metadata": {},
          "output_type": "execute_result"
        }
      ]
    },
    {
      "cell_type": "markdown",
      "metadata": {
        "id": "nKi1mUhRcwE0"
      },
      "source": [
        "#### Grab the area code (first 3 digits) from the phone number in the above text"
      ]
    },
    {
      "cell_type": "code",
      "metadata": {
        "id": "qZ5Fan_dcwE0",
        "outputId": "9e18f77d-83be-4807-befe-a7be26a9383b"
      },
      "source": [
        "phone_num_regex = re.compile(r'(\\d{3})-(\\d{3}-\\d{4})') # regex for USA phone numbers\n",
        "phone_match = phone_num_regex.search(text)\n",
        "print(f'Area code is {phone_match.group(1)} while the rest of digits are {phone_match.group(2)}.')\n",
        "\n",
        "phone_findall = phone_num_regex.findall(text) \n",
        "phone_findall"
      ],
      "execution_count": null,
      "outputs": [
        {
          "name": "stdout",
          "output_type": "stream",
          "text": [
            "Area code is 732 while the rest of digits are 734-2345.\n"
          ]
        },
        {
          "data": {
            "text/plain": [
              "[('732', '734-2345'), ('234', '553-2341')]"
            ]
          },
          "execution_count": 76,
          "metadata": {},
          "output_type": "execute_result"
        }
      ]
    },
    {
      "cell_type": "code",
      "metadata": {
        "id": "BAxjoeqAcwE1",
        "outputId": "29596db3-cb37-47a0-f15f-ba66a9c7eeb5"
      },
      "source": [
        "phone_match.groups() # get all the groups (returns tuple)"
      ],
      "execution_count": null,
      "outputs": [
        {
          "data": {
            "text/plain": [
              "('732', '734-2345')"
            ]
          },
          "execution_count": 26,
          "metadata": {},
          "output_type": "execute_result"
        }
      ]
    },
    {
      "cell_type": "code",
      "metadata": {
        "id": "U-aEi6CPcwE1",
        "outputId": "13f15bc7-9057-4595-ce75-2b72dda7239b"
      },
      "source": [
        "regex = re.compile(r'chicken|egg') # | (called pipe) will match either of the given strings \n",
        "mo = regex.search('Does a chicken or an egg come first?')\n",
        "mo.group()"
      ],
      "execution_count": null,
      "outputs": [
        {
          "data": {
            "text/plain": [
              "'chicken'"
            ]
          },
          "execution_count": 32,
          "metadata": {},
          "output_type": "execute_result"
        }
      ]
    },
    {
      "cell_type": "code",
      "metadata": {
        "id": "CbGwV1DTcwE2",
        "outputId": "7f9a1542-76ed-411d-a39b-30dc839fc6cc"
      },
      "source": [
        "mo = regex.search('Does an egg or a chicken come first?') # if both appear, 1st occurence of matching text will be returned\n",
        "mo.group()"
      ],
      "execution_count": null,
      "outputs": [
        {
          "data": {
            "text/plain": [
              "'egg'"
            ]
          },
          "execution_count": 33,
          "metadata": {},
          "output_type": "execute_result"
        }
      ]
    },
    {
      "cell_type": "code",
      "metadata": {
        "id": "FNBv208_cwE3",
        "outputId": "c0fd7dad-4010-4b64-d40a-e8be76a5cba3"
      },
      "source": [
        "batregex = re.compile(r'Bat(man|mobile|copter|bat)')\n",
        "mo = batregex.search('Batmobile lost a wheel.')\n",
        "print(mo.group(), mo.group(1), mo.groups())"
      ],
      "execution_count": null,
      "outputs": [
        {
          "name": "stdout",
          "output_type": "stream",
          "text": [
            "Batmobile mobile ('mobile',)\n"
          ]
        }
      ]
    },
    {
      "cell_type": "code",
      "metadata": {
        "id": "7ySIUooqcwE3"
      },
      "source": [
        "mo = batregex.search('Batmobile lost a wheel, Batcopter crashed but Batman saved Gotham.')"
      ],
      "execution_count": null,
      "outputs": []
    },
    {
      "cell_type": "code",
      "metadata": {
        "id": "3ENcjc1EcwE4",
        "outputId": "d9cb86c5-359c-4326-bd98-e23810d916e5"
      },
      "source": [
        "batregex = re.compile(r'Bat(wo)?man') # '?' means match 0 or 1 group preceding it\n",
        "batregex.search('Adventures of Batman').group()"
      ],
      "execution_count": null,
      "outputs": [
        {
          "data": {
            "text/plain": [
              "'Batman'"
            ]
          },
          "execution_count": 46,
          "metadata": {},
          "output_type": "execute_result"
        }
      ]
    },
    {
      "cell_type": "code",
      "metadata": {
        "id": "-ek3JjbCcwE4",
        "outputId": "c213efdb-e92c-4a9a-bce5-345c0989ecff"
      },
      "source": [
        "batregex.search('Adventures of Batwoman').group()"
      ],
      "execution_count": null,
      "outputs": [
        {
          "data": {
            "text/plain": [
              "'Batwoman'"
            ]
          },
          "execution_count": 47,
          "metadata": {},
          "output_type": "execute_result"
        }
      ]
    },
    {
      "cell_type": "code",
      "metadata": {
        "id": "lPUyEaDocwE5",
        "outputId": "3da01244-0be8-4d4a-b239-afbe3b3a0897"
      },
      "source": [
        "batregex = re.compile(r'Bat(wo)*man') # '*' means match 0 or more group(s) preceding it\n",
        "batregex.search('Adventures of Batman').group()"
      ],
      "execution_count": null,
      "outputs": [
        {
          "data": {
            "text/plain": [
              "'Batman'"
            ]
          },
          "execution_count": 48,
          "metadata": {},
          "output_type": "execute_result"
        }
      ]
    },
    {
      "cell_type": "code",
      "metadata": {
        "id": "tO6uwk6PcwE5",
        "outputId": "e53b6d66-9997-4bc4-81a6-5036f884a23d"
      },
      "source": [
        "batregex.search('Adventures of Batwowowoman').group()"
      ],
      "execution_count": null,
      "outputs": [
        {
          "data": {
            "text/plain": [
              "'Batwowowoman'"
            ]
          },
          "execution_count": 51,
          "metadata": {},
          "output_type": "execute_result"
        }
      ]
    },
    {
      "cell_type": "code",
      "metadata": {
        "id": "f8NJ3cejcwE7",
        "outputId": "1dbedf6c-1750-4367-90b4-62efcd9d777c"
      },
      "source": [
        "batregex = re.compile(r'Bat(wo)+man') # '+' means match 1 or more group(s) preceding it\n",
        "print(batregex.search('Adventures of Batman'))"
      ],
      "execution_count": null,
      "outputs": [
        {
          "name": "stdout",
          "output_type": "stream",
          "text": [
            "None\n"
          ]
        }
      ]
    },
    {
      "cell_type": "code",
      "metadata": {
        "id": "9EGZlf_5cwE8",
        "outputId": "f8208d0e-5ac7-4933-f2e9-af621170ef76"
      },
      "source": [
        "mo = batregex.search('Adventures of Batwowoman')\n",
        "mo.group()"
      ],
      "execution_count": null,
      "outputs": [
        {
          "data": {
            "text/plain": [
              "'Batwowoman'"
            ]
          },
          "execution_count": 56,
          "metadata": {},
          "output_type": "execute_result"
        }
      ]
    },
    {
      "cell_type": "code",
      "metadata": {
        "id": "pxhqov2fcwE8",
        "outputId": "3767d4e5-e616-4da8-a88c-f00012ed9869"
      },
      "source": [
        "rx = re.compile(r'(Ha){3,6}') # group apprears 3, 4, 5 or 6 times ({,6} = 0 to 6, {3,} = 3 to inf)\n",
        "mo = rx.search('HaHaHaHa funny').group()"
      ],
      "execution_count": null,
      "outputs": [
        {
          "data": {
            "text/plain": [
              "'HaHaHaHa'"
            ]
          },
          "execution_count": 58,
          "metadata": {},
          "output_type": "execute_result"
        }
      ]
    },
    {
      "cell_type": "code",
      "metadata": {
        "id": "hk6VwpWScwE8",
        "outputId": "0c685a3b-ef22-4605-b049-fcf5f913194d"
      },
      "source": [
        "rx = re.compile(r'(Ha){3,6}?') # non-greedy. Returns shortest pattern match)\n",
        "rx.search('HaHaHaHaHaHaHaHaHaHaHaHa funny').group()"
      ],
      "execution_count": null,
      "outputs": [
        {
          "data": {
            "text/plain": [
              "'HaHaHa'"
            ]
          },
          "execution_count": 63,
          "metadata": {},
          "output_type": "execute_result"
        }
      ]
    },
    {
      "cell_type": "code",
      "metadata": {
        "id": "raqHImHGcwE8",
        "outputId": "46f9462e-675e-4555-b701-b2d69e56bfee"
      },
      "source": [
        "list_xmas = '12 drummers, 11 pipers, 10 lords, 9 ladies, 8 maids, 7 swans,6 geese, 5 rings, 4 birds,3 hens,2 doves, 1 partridge'\n",
        "\n",
        "xmasRegex = re.compile(r'\\d+\\s\\w+') # \\d = digit, \\w = letter/digit/_, \\s = space\n",
        "xmasRegex.findall(list_xmas)"
      ],
      "execution_count": null,
      "outputs": [
        {
          "data": {
            "text/plain": [
              "['12 drummers',\n",
              " '11 pipers',\n",
              " '10 lords',\n",
              " '9 ladies',\n",
              " '8 maids',\n",
              " '7 swans',\n",
              " '6 geese',\n",
              " '5 rings',\n",
              " '4 birds',\n",
              " '3 hens',\n",
              " '2 doves',\n",
              " '1 partridge']"
            ]
          },
          "execution_count": 80,
          "metadata": {},
          "output_type": "execute_result"
        }
      ]
    },
    {
      "cell_type": "code",
      "metadata": {
        "id": "hA7X5Y5jcwE-",
        "outputId": "e7bb19ec-f037-48c4-de24-8093d95e6052"
      },
      "source": [
        "xmasRegex = re.compile(r'[1-5]+\\s\\w+') # [1-5] = matching 1 to 5\n",
        "xmasRegex.findall(list_xmas)"
      ],
      "execution_count": null,
      "outputs": [
        {
          "data": {
            "text/plain": [
              "['12 drummers',\n",
              " '11 pipers',\n",
              " '5 rings',\n",
              " '4 birds',\n",
              " '3 hens',\n",
              " '2 doves',\n",
              " '1 partridge']"
            ]
          },
          "execution_count": 81,
          "metadata": {},
          "output_type": "execute_result"
        }
      ]
    },
    {
      "cell_type": "code",
      "metadata": {
        "id": "_JIAFrmgcwE-",
        "outputId": "35c10876-f67a-4d1d-94df-d2ecd6f6c234"
      },
      "source": [
        "vowelRegex = re.compile(r'[aeiouAEIOU]') # custom matching criterion, will match any vowel\n",
        "vowelRegex.findall('RoboCop eats baby food. BABY FOOD.')"
      ],
      "execution_count": null,
      "outputs": [
        {
          "data": {
            "text/plain": [
              "['o', 'o', 'o', 'e', 'a', 'a', 'o', 'o', 'A', 'O', 'O']"
            ]
          },
          "execution_count": 82,
          "metadata": {},
          "output_type": "execute_result"
        }
      ]
    },
    {
      "cell_type": "markdown",
      "metadata": {
        "id": "yuz1Y6zAcwE_"
      },
      "source": [
        "#### [a-zA-Z0-9] = All lowercase, uppercase letters and numbers\n",
        "#### [0-6.?] = Matching digits 0 to 6 and a period and a question mark\n",
        "#### [^0-6.?] = Matching everything that is not digits 0 to 6 and a period and a question mark (complement to previous)\n",
        "#### r'^Hello' = Match string beginning with a pattern 'Hello'\n",
        "#### r'Hello\\\\$' = Match string ending with a pattern 'Hello'"
      ]
    },
    {
      "cell_type": "markdown",
      "metadata": {
        "id": "pVoM4fIIcwE_"
      },
      "source": [
        "#### r'^\\d\\\\$' = entire string of digits"
      ]
    },
    {
      "cell_type": "markdown",
      "metadata": {
        "id": "7R89UJ9FcwFA"
      },
      "source": [
        "#### r'.' = match any character except newline character \n",
        "#### r'.*' = match any string except newline character"
      ]
    },
    {
      "cell_type": "code",
      "metadata": {
        "id": "cqGkuUp2cwFA",
        "outputId": "b4832d9b-e376-400c-84cf-696ed2b71eb5"
      },
      "source": [
        "reg = re.compile(r'<.*?>') # ? = non-greedily, .* = match everything\n",
        "reg.search('<To serve man> for dinner.>').group()"
      ],
      "execution_count": null,
      "outputs": [
        {
          "data": {
            "text/plain": [
              "'<To serve man>'"
            ]
          },
          "execution_count": 85,
          "metadata": {},
          "output_type": "execute_result"
        }
      ]
    },
    {
      "cell_type": "code",
      "metadata": {
        "id": "B-q-ShjdcwFC"
      },
      "source": [
        "reg = re.compile(r'<.*>') #  .* = greedily match everything\n",
        "reg.search('<To serve man> for dinner.>').group()"
      ],
      "execution_count": null,
      "outputs": []
    },
    {
      "cell_type": "code",
      "metadata": {
        "id": "FilZPS92cwFC",
        "outputId": "acc1ec95-7f7c-409d-ad52-5837450c01c2"
      },
      "source": [
        "reg = re.compile(r'.*') # match everything except newline\n",
        "reg.search('Serve the public trust.\\nProtect the innocent.').group()"
      ],
      "execution_count": null,
      "outputs": [
        {
          "data": {
            "text/plain": [
              "'Serve the public trust.'"
            ]
          },
          "execution_count": 91,
          "metadata": {},
          "output_type": "execute_result"
        }
      ]
    },
    {
      "cell_type": "code",
      "metadata": {
        "id": "4EoEqBcEcwFD",
        "outputId": "cb7fc14e-9fc4-4d29-cc28-8a9a565435ad"
      },
      "source": [
        "reg = re.compile(r'.*', re.DOTALL) # include newline in .* or in other words, match everything\n",
        "reg.search('Serve the public trust.\\nProtect the innocent.').group()"
      ],
      "execution_count": null,
      "outputs": [
        {
          "data": {
            "text/plain": [
              "'Serve the public trust.\\nProtect the innocent.'"
            ]
          },
          "execution_count": 92,
          "metadata": {},
          "output_type": "execute_result"
        }
      ]
    },
    {
      "cell_type": "code",
      "metadata": {
        "id": "xo2YZgE-cwFD",
        "outputId": "ba6e0d07-3d58-48b9-e695-644e38fd3483"
      },
      "source": [
        "reg = re.compile(r'RoBoCop', re.I) # Case-Insensitive\n",
        "reg.search('RoboCOP').group()"
      ],
      "execution_count": null,
      "outputs": [
        {
          "data": {
            "text/plain": [
              "'RoboCOP'"
            ]
          },
          "execution_count": 93,
          "metadata": {},
          "output_type": "execute_result"
        }
      ]
    },
    {
      "cell_type": "markdown",
      "metadata": {
        "id": "YA1F716jcwFE"
      },
      "source": [
        "#### Replacing a pattern with a string"
      ]
    },
    {
      "cell_type": "code",
      "metadata": {
        "id": "T52TjgcQcwFE",
        "outputId": "9ab7b4d5-2492-4dfa-a720-2b6eb3977463"
      },
      "source": [
        "reg = re.compile(r'Agent \\w+')\n",
        "reg.sub('CENSORED', 'Agent Lloyd gave the secret documents to Agent Wieck.')"
      ],
      "execution_count": null,
      "outputs": [
        {
          "data": {
            "text/plain": [
              "'CENSORED gave the secret documents to CENSORED.'"
            ]
          },
          "execution_count": 95,
          "metadata": {},
          "output_type": "execute_result"
        }
      ]
    },
    {
      "cell_type": "markdown",
      "metadata": {
        "id": "n22FRNnzcwFE"
      },
      "source": [
        "#### Replace a matched string with a group of a matched string"
      ]
    },
    {
      "cell_type": "code",
      "metadata": {
        "id": "WeX5KbJocwFF",
        "outputId": "fffd406a-bb27-4a46-a64c-ba0eadf00cfe"
      },
      "source": [
        "reg = re.compile(r'Agent (\\w)\\w*')\n",
        "reg.sub(r'\\1****', 'Agent Alice told Agent John that Agent Bob was a double agent.') # \\1 = 1st group"
      ],
      "execution_count": null,
      "outputs": [
        {
          "data": {
            "text/plain": [
              "'A**** told J**** that B**** was a double agent.'"
            ]
          },
          "execution_count": 98,
          "metadata": {},
          "output_type": "execute_result"
        }
      ]
    },
    {
      "cell_type": "markdown",
      "metadata": {
        "id": "-jb9GizXcwFF"
      },
      "source": [
        "## zipfile module"
      ]
    },
    {
      "cell_type": "code",
      "metadata": {
        "id": "4bcdDHrUcwFF"
      },
      "source": [
        "import os, zipfile"
      ],
      "execution_count": null,
      "outputs": []
    },
    {
      "cell_type": "code",
      "metadata": {
        "id": "1rJO-6O3cwFF",
        "outputId": "92b5d34a-d63e-43bf-d7db-b5cd66af760b"
      },
      "source": [
        "PATH = os.getcwd()\n",
        "PATH"
      ],
      "execution_count": null,
      "outputs": [
        {
          "data": {
            "text/plain": [
              "'/home/rohit/algorithms'"
            ]
          },
          "execution_count": 43,
          "metadata": {},
          "output_type": "execute_result"
        }
      ]
    },
    {
      "cell_type": "code",
      "metadata": {
        "id": "oBqL5U9McwFG",
        "outputId": "b5327f10-e2b8-4b19-8c60-08909c020f18"
      },
      "source": [
        "os.path.basename(PATH)"
      ],
      "execution_count": null,
      "outputs": [
        {
          "data": {
            "text/plain": [
              "'algorithms'"
            ]
          },
          "execution_count": 44,
          "metadata": {},
          "output_type": "execute_result"
        }
      ]
    },
    {
      "cell_type": "code",
      "metadata": {
        "id": "WIknyH-FcwFG",
        "outputId": "53b7f659-feda-4cbf-9415-af6bfe5a8832"
      },
      "source": [
        "os.path.dirname(PATH)"
      ],
      "execution_count": null,
      "outputs": [
        {
          "data": {
            "text/plain": [
              "'/home/rohit'"
            ]
          },
          "execution_count": 45,
          "metadata": {},
          "output_type": "execute_result"
        }
      ]
    },
    {
      "cell_type": "markdown",
      "metadata": {
        "id": "cvznL51dcwFG"
      },
      "source": [
        "### Treating zip file"
      ]
    },
    {
      "cell_type": "code",
      "metadata": {
        "id": "5iREwKBycwFH"
      },
      "source": [
        "testzip = zipfile.ZipFile('test.zip')"
      ],
      "execution_count": null,
      "outputs": []
    },
    {
      "cell_type": "code",
      "metadata": {
        "id": "ShQ86ADecwFH",
        "outputId": "bed1de74-cf26-4c13-859e-4ace05aa9c4b"
      },
      "source": [
        "testzip.namelist()"
      ],
      "execution_count": null,
      "outputs": [
        {
          "data": {
            "text/plain": [
              "['otomoto_price_prediction_data.csv',\n",
              " '__MACOSX/._otomoto_price_prediction_data.csv']"
            ]
          },
          "execution_count": 7,
          "metadata": {},
          "output_type": "execute_result"
        }
      ]
    },
    {
      "cell_type": "code",
      "metadata": {
        "id": "iBBpUvJhcwFI",
        "outputId": "13b01c1f-895a-4e4e-9fa7-c0774a1b21aa"
      },
      "source": [
        "csvinfo = testzip.getinfo('otomoto_price_prediction_data.csv')\n",
        "print(f'Compressed file is {round(csvinfo.file_size/csvinfo.compress_size, 2)}x smaller.')"
      ],
      "execution_count": null,
      "outputs": [
        {
          "name": "stdout",
          "output_type": "stream",
          "text": [
            "Compressed file is 4.63x smaller.\n"
          ]
        }
      ]
    },
    {
      "cell_type": "code",
      "metadata": {
        "id": "EK6jGNcOcwFI"
      },
      "source": [
        "testzip.extractall('./unzipped') #to extract all files"
      ],
      "execution_count": null,
      "outputs": []
    },
    {
      "cell_type": "code",
      "metadata": {
        "id": "gpX-dEAWcwFI",
        "outputId": "ad741d73-fca5-42c1-86d6-c8488b4062c5"
      },
      "source": [
        "testzip.extract('otomoto_price_prediction_data.csv', './unzipped')"
      ],
      "execution_count": null,
      "outputs": [
        {
          "data": {
            "text/plain": [
              "'unzipped/otomoto_price_prediction_data.csv'"
            ]
          },
          "execution_count": 22,
          "metadata": {},
          "output_type": "execute_result"
        }
      ]
    },
    {
      "cell_type": "code",
      "metadata": {
        "id": "Byi9HJuUcwFJ"
      },
      "source": [
        "testzip.close()"
      ],
      "execution_count": null,
      "outputs": []
    },
    {
      "cell_type": "markdown",
      "metadata": {
        "id": "aU7jWNzvcwFJ"
      },
      "source": [
        "### Creating zip file"
      ]
    },
    {
      "cell_type": "code",
      "metadata": {
        "id": "EQNchJu8cwFJ"
      },
      "source": [
        "newzip = zipfile.ZipFile('new.zip', 'w')\n",
        "newzip.write('unzipped/otomoto_price_prediction_data.csv', compress_type = zipfile.ZIP_DEFLATED)\n",
        "newzip.close()"
      ],
      "execution_count": null,
      "outputs": []
    },
    {
      "cell_type": "markdown",
      "metadata": {
        "id": "4JzX3i2-dDk2"
      },
      "source": [
        "## **Minion Game**\n",
        "\n",
        "Kevin and Stuart want to play the 'The Minion Game'.\n",
        "\n",
        "**Game Rules**\n",
        "- Both players are given the same string\n",
        "- Both players have to make substrings using the letters of the string\n",
        "- Stuart has to make words starting with consonants.\n",
        "- Kevin has to make words starting with vowels.\n",
        "- The game ends when both players have made all possible substrings.\n",
        "\n",
        "**Scoring**\n",
        "- A player gets +1 point for each occurrence of the substring in the string\n",
        "\n",
        "\n",
        "**For Example**:\n",
        "- String = BANANA\n",
        "- Kevin's vowel beginning word = ANA\n",
        "- Here, ANA occurs twice in BANANA. Hence, Kevin will get 2 Points. \n",
        "\n",
        "Your task is to determine the winner of the game and their score.\n"
      ]
    },
    {
      "cell_type": "code",
      "metadata": {
        "id": "8RSuOx75I7fy"
      },
      "source": [
        "def minion_game(string):\n",
        "  score_kevin = 0\n",
        "  vowels = 'AEIOU'\n",
        "  N = len(string)\n",
        "\n",
        "  for i in range(N):\n",
        "      if string[i] in vowels:\n",
        "          score_kevin += (len(s)-i)\n",
        "  score_stuart = int( 0.5*N*(N+1) - score_kevin )\n",
        "  print(f'score_stuart: {score_stuart}, score_kevin: {score_kevin}')\n",
        "\n",
        "  if score_kevin > score_stuart:\n",
        "      print(\"Kevin WON\")\n",
        "  elif score_kevin < score_stuart:\n",
        "      print(\"Stuart WON\")\n",
        "  else:\n",
        "      print(\"Draw\")"
      ],
      "execution_count": null,
      "outputs": []
    },
    {
      "cell_type": "code",
      "metadata": {
        "colab": {
          "base_uri": "https://localhost:8080/"
        },
        "id": "_hEOVJYNJJdd",
        "outputId": "d4b73ab6-2779-4f50-da39-d8cc044ad439"
      },
      "source": [
        "if __name__ == '__main__':\n",
        "  s = input()\n",
        "  minion_game(s)"
      ],
      "execution_count": null,
      "outputs": [
        {
          "output_type": "stream",
          "name": "stdout",
          "text": [
            "BANANA\n",
            "score_stuart: 12, score_kevin: 9\n",
            "Stuart WON\n"
          ]
        }
      ]
    },
    {
      "cell_type": "markdown",
      "metadata": {
        "id": "W8EC5CvVGubw"
      },
      "source": [
        "## **Grid Traveller**\n",
        "\n",
        "Say that you are travelling in a 2D grid. You begin in the top-left corner and your goal is to travel to the bottom-right corner. You may only move down or right.\n",
        "\n",
        "In how many ways can you travel to the goal on the grid with dimensions $m\\times n$?"
      ]
    },
    {
      "cell_type": "markdown",
      "metadata": {
        "id": "GxLXu_ZqXV2q"
      },
      "source": [
        ""
      ]
    },
    {
      "cell_type": "code",
      "metadata": {
        "id": "19BVogJ_Ua59"
      },
      "source": [
        "def gridTraveller_cache(m,n, memo={}):\n",
        "  key = f'{m},{n}'\n",
        "  if key in memo:\n",
        "    return memo[key]\n",
        "\n",
        "  if (m,n) == (1,1):\n",
        "    return 1\n",
        "  elif m < 1 or n < 1:\n",
        "    return 0\n",
        "\n",
        "  memo[key] = gridTraveller_cache(m-1,n, memo) + gridTraveller_cache(m,n-1, memo)\n",
        "  return memo[key]"
      ],
      "execution_count": 27,
      "outputs": []
    },
    {
      "cell_type": "markdown",
      "metadata": {
        "id": "H_0xl07Y8Rn4"
      },
      "source": [
        "The function above,  can avoid stack overflow (recursion overload) for large numbers, via the approach of ***memoization***. It pertains to essentially caching the information which is likely to be useful for future calculations, thereby saving the repetitive computations."
      ]
    },
    {
      "cell_type": "code",
      "metadata": {
        "colab": {
          "base_uri": "https://localhost:8080/"
        },
        "id": "-PESPOgKkw6J",
        "outputId": "c4e03b21-42c0-4ae8-e364-ced31f24850b"
      },
      "source": [
        "gridTraveller_cache(20,20)"
      ],
      "execution_count": 33,
      "outputs": [
        {
          "output_type": "execute_result",
          "data": {
            "text/plain": [
              "35345263800"
            ]
          },
          "metadata": {},
          "execution_count": 33
        }
      ]
    },
    {
      "cell_type": "markdown",
      "metadata": {
        "id": "O3vuutIv8wQp"
      },
      "source": [
        "# **CanSum Problem**\n",
        "\n",
        "- Write a function that takes a positive integer and an array of positive integers as arguments. \n",
        "\n",
        "- The function should return a boolean indicating whether the number can be generated by adding up some of the elements in the array.\n",
        "\n",
        "- You may use an element of the array as many times as needed.\n",
        "\n",
        "e.g.: canSum(7, [5,3,4,7]) -> True; canSum(7, [2,4]) -> False"
      ]
    },
    {
      "cell_type": "code",
      "metadata": {
        "id": "IkQLVug-9gJE"
      },
      "source": [
        "def canSum(targetSum, numbers, memo={}):\n",
        "  if targetSum in memo:\n",
        "    return memo[targetSum]\n",
        "  if targetSum == 0:\n",
        "    return True\n",
        "  elif targetSum < 0:\n",
        "    return False\n",
        "\n",
        "  for num in numbers:\n",
        "    remainder = targetSum - num\n",
        "    if canSum(remainder, numbers, memo) == True:\n",
        "      memo[targetSum] = True\n",
        "      return True\n",
        "  memo[targetSum] = False\n",
        "  return False"
      ],
      "execution_count": 95,
      "outputs": []
    },
    {
      "cell_type": "code",
      "metadata": {
        "colab": {
          "base_uri": "https://localhost:8080/"
        },
        "id": "aSNhbRGceSmj",
        "outputId": "e4f1a17f-bd2d-476a-f893-bd8bd2459a72"
      },
      "source": [
        "print(canSum(7, [5,3,4,7]))"
      ],
      "execution_count": 96,
      "outputs": [
        {
          "output_type": "stream",
          "name": "stdout",
          "text": [
            "True\n"
          ]
        }
      ]
    },
    {
      "cell_type": "code",
      "metadata": {
        "colab": {
          "base_uri": "https://localhost:8080/"
        },
        "id": "eHVcU609u_z9",
        "outputId": "cec33fae-be6b-4735-e9e0-3a5b4529e31d"
      },
      "source": [
        "print(canSum(300, [7,14]))"
      ],
      "execution_count": 97,
      "outputs": [
        {
          "output_type": "stream",
          "name": "stdout",
          "text": [
            "False\n"
          ]
        }
      ]
    },
    {
      "cell_type": "markdown",
      "metadata": {
        "id": "UP4hTPRjUqqJ"
      },
      "source": [
        "**What if it is allowed to use each element of the array only once?**"
      ]
    },
    {
      "cell_type": "code",
      "metadata": {
        "id": "YlDEewrYKltj"
      },
      "source": [
        "def canSum_only_once(targetSum, numbers):\n",
        "  if targetSum == 0:\n",
        "    return True\n",
        "  elif targetSum < 0 or not numbers:\n",
        "    return False \n",
        "\n",
        "  numbers_copy = numbers.copy()\n",
        "  for num in numbers:\n",
        "    remainder = targetSum - num\n",
        "    numbers_copy.remove(num)\n",
        "    if canSum_only_once(remainder, numbers_copy) == True:\n",
        "      return True\n",
        "    numbers_copy.append(num)\n",
        "  return False"
      ],
      "execution_count": 98,
      "outputs": []
    },
    {
      "cell_type": "code",
      "metadata": {
        "colab": {
          "base_uri": "https://localhost:8080/"
        },
        "id": "sNfDePipLlq_",
        "outputId": "09a76345-378a-4ff1-ab4c-63fe0494bc00"
      },
      "source": [
        "print(canSum_only_once(7, [6,5,3,0]))\n",
        "print(canSum_only_once(300, [15,3,0,5,3,4,5,2,6,7,8,90,12,13,45,50,78,93,90]))"
      ],
      "execution_count": 99,
      "outputs": [
        {
          "output_type": "stream",
          "name": "stdout",
          "text": [
            "False\n",
            "True\n"
          ]
        }
      ]
    },
    {
      "cell_type": "markdown",
      "metadata": {
        "id": "ETX0Y39VZPNU"
      },
      "source": [
        "## **HowSum Problem**\n",
        "\n",
        "Write a function `howSum(targetSum, numbers)` that takes in a `targetSum` and an array of numbers as arguments. \n",
        "\n",
        "The function should return an array containing any combination of elements that add up to exactly the `targetSum`. If there is no combination that adds up to the `targetSum`, then return `-1`.\n",
        "\n",
        "The elements of the array can be used as many times as needed.\n",
        "\n",
        "If there are multiple combinations possible, you may return any single one.\n",
        "\n",
        "This is the same as the canSum problem above, but instead of returning the boolean, we want the combination of elements of `numbers` array that sums to `targetSum`."
      ]
    },
    {
      "cell_type": "code",
      "metadata": {
        "id": "B1E3Z77Ec2k6"
      },
      "source": [
        "def howSum(targetSum, numbers, memo={}):\n",
        "  if targetSum in memo:\n",
        "    return memo[targetSum]\n",
        "  if targetSum == 0:\n",
        "    return []\n",
        "  elif targetSum < 0:\n",
        "    return -1\n",
        "\n",
        "  for num in numbers:\n",
        "    remainder = targetSum - num\n",
        "    result = howSum(remainder, numbers, memo)\n",
        "    if result != -1:\n",
        "      result.append(num)\n",
        "      memo[targetSum] = result\n",
        "      return memo[targetSum]\n",
        "\n",
        "  memo[targetSum] = -1\n",
        "  return -1"
      ],
      "execution_count": 5,
      "outputs": []
    },
    {
      "cell_type": "code",
      "metadata": {
        "colab": {
          "base_uri": "https://localhost:8080/"
        },
        "id": "4hGuUL6je7co",
        "outputId": "a25b4825-9c89-42ce-99cc-644defbc2cd8"
      },
      "source": [
        "print(howSum(7, [5,3,4,7]))"
      ],
      "execution_count": 6,
      "outputs": [
        {
          "output_type": "stream",
          "name": "stdout",
          "text": [
            "[4, 3]\n"
          ]
        }
      ]
    },
    {
      "cell_type": "code",
      "metadata": {
        "colab": {
          "base_uri": "https://localhost:8080/"
        },
        "id": "4NKtkJOjfCJN",
        "outputId": "d2b7f884-a2a7-493f-bb5e-4cd6bd867193"
      },
      "source": [
        "print(howSum(300, [7, 14]))"
      ],
      "execution_count": 7,
      "outputs": [
        {
          "output_type": "stream",
          "name": "stdout",
          "text": [
            "-1\n"
          ]
        }
      ]
    },
    {
      "cell_type": "markdown",
      "metadata": {
        "id": "BEPvbbbQx6S3"
      },
      "source": [
        "## **bestSum Problem**\n",
        "\n",
        "Write a function `bestSum(targetSum, numbers)` that takes in a `targetSum` and an array of numbers as arguments. \n",
        "\n",
        "The function should return an array containing the shortest combination of elements that add up to exactly the `targetSum`.\n",
        "\n",
        "The elements of the array can be used as many times as needed.\n",
        "\n",
        "If there are multiple combinations possible, you may return any single one."
      ]
    },
    {
      "cell_type": "code",
      "metadata": {
        "id": "GXZb635KSaCQ"
      },
      "source": [
        "def bestSum(targetSum, numbers, memo={}):\n",
        "  if targetSum in memo:\n",
        "    return memo[targetSum]\n",
        "  if targetSum == 0:\n",
        "    return []\n",
        "  elif targetSum < 0:\n",
        "    return -1\n",
        "\n",
        "  shortestComb = -1\n",
        "\n",
        "  for num in numbers:\n",
        "    remainder = targetSum - num\n",
        "    combination = bestSum(remainder, numbers, memo)\n",
        "    if combination != -1:\n",
        "      combination.append(num)\n",
        "      if shortestComb == -1 or len(combination) < len(shortestComb):\n",
        "        shortestComb = combination\n",
        "  memo[targetSum] = shortestComb\n",
        "  return shortestComb"
      ],
      "execution_count": 32,
      "outputs": []
    },
    {
      "cell_type": "code",
      "metadata": {
        "colab": {
          "base_uri": "https://localhost:8080/"
        },
        "id": "uEhoww_jUFD8",
        "outputId": "1b260a67-4811-43fd-fef2-91edeed2748f"
      },
      "source": [
        "# print(bestSum(8, [2,3,5]))\n",
        "print(bestSum(100, [1,2,5,25]))"
      ],
      "execution_count": 33,
      "outputs": [
        {
          "output_type": "stream",
          "name": "stdout",
          "text": [
            "[25, 1, 1, 2, 1, 2, 1, 2, 1, 2, 5, 1, 2, 5, 1, 2, 5, 1, 2, 5, 1, 2, 5, 1, 2, 5, 1, 2, 5, 1, 2, 5, 1, 2, 5, 1, 2, 5, 1, 2, 5, 1, 2, 5, 1, 2, 5, 1, 2, 5, 1, 2, 5, 1, 2, 5, 1, 2, 5, 1, 2, 5, 1, 2, 5, 1, 2, 5, 1, 2, 5, 25, 1, 2, 5, 25, 1, 2, 5, 25, 1, 2, 5, 25, 1, 2, 5, 25, 1, 2, 5, 25, 1, 2, 5, 25, 1, 2, 5, 25, 1, 2, 5, 25, 1, 2, 5, 25, 1, 2, 5, 25, 1, 2, 5, 25, 1, 2, 5, 25, 1, 2, 5, 25, 1, 2, 5, 25, 1, 2, 5, 25, 1, 2, 5, 25, 1, 2, 5, 25, 1, 2, 5, 25, 1, 2, 5, 25, 1, 2, 5, 25, 1, 2, 5, 25, 1, 2, 5, 25, 1, 2, 5, 25, 1, 2, 5, 25, 1, 2, 5, 25, 1, 2, 5, 25, 1, 2, 5, 25, 1, 2, 5, 25, 1, 2, 5, 25, 1, 2, 5, 25, 1, 2, 5, 25, 1, 2, 5, 25, 1, 2, 5, 25, 1, 2, 5, 25, 1, 2, 5, 25, 1, 2, 5, 25, 1, 2, 5, 25, 1, 2, 5, 25, 1, 2, 5, 25, 1, 2, 5, 25, 1, 2, 5, 25, 1, 2, 5, 25, 1, 2, 5, 25, 1, 2, 5, 25, 1, 2, 5, 25, 1, 2, 5, 25, 1, 2, 5, 25, 1, 2, 5, 25, 1, 2, 5, 25, 1, 2, 5, 25]\n"
          ]
        }
      ]
    },
    {
      "cell_type": "code",
      "metadata": {
        "id": "htxFEYkCUIsf"
      },
      "source": [
        ""
      ],
      "execution_count": null,
      "outputs": []
    }
  ]
}