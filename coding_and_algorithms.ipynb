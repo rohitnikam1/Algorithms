{
 "cells": [
  {
   "cell_type": "markdown",
   "metadata": {},
   "source": [
    "# Algorithms"
   ]
  },
  {
   "cell_type": "code",
   "execution_count": 48,
   "metadata": {},
   "outputs": [],
   "source": [
    "import math\n",
    "import itertools"
   ]
  },
  {
   "cell_type": "markdown",
   "metadata": {},
   "source": [
    "### Factorial"
   ]
  },
  {
   "cell_type": "code",
   "execution_count": 1,
   "metadata": {},
   "outputs": [],
   "source": [
    "def factorial(x):\n",
    "    if x == 0:\n",
    "        return 1\n",
    "    else:\n",
    "        return x*factorial(x-1)"
   ]
  },
  {
   "cell_type": "code",
   "execution_count": 2,
   "metadata": {},
   "outputs": [
    {
     "name": "stdout",
     "output_type": "stream",
     "text": [
      "3628800\n"
     ]
    }
   ],
   "source": [
    "print(factorial(10))"
   ]
  },
  {
   "cell_type": "markdown",
   "metadata": {},
   "source": [
    "### Standard deviation"
   ]
  },
  {
   "cell_type": "code",
   "execution_count": 4,
   "metadata": {},
   "outputs": [],
   "source": [
    "def std(x):\n",
    "    import math\n",
    "    n = len(x)\n",
    "    if n <=1:\n",
    "        return float('NaN')\n",
    "    else:\n",
    "        sum_squares = sum(list(map(lambda x:x**2, x))) #[f**2 for f in x]\n",
    "        mean = sum(x)/n\n",
    "        var = float((sum_squares - n*mean**2)/(n-1))\n",
    "        return round(math.sqrt(var),2)"
   ]
  },
  {
   "cell_type": "code",
   "execution_count": 5,
   "metadata": {},
   "outputs": [
    {
     "name": "stdout",
     "output_type": "stream",
     "text": [
      "1.29\n"
     ]
    }
   ],
   "source": [
    "print(std([1, 2, 3, 4]))"
   ]
  },
  {
   "cell_type": "markdown",
   "metadata": {},
   "source": [
    "### Root mean square error"
   ]
  },
  {
   "cell_type": "code",
   "execution_count": 128,
   "metadata": {},
   "outputs": [],
   "source": [
    "import math"
   ]
  },
  {
   "cell_type": "code",
   "execution_count": 138,
   "metadata": {},
   "outputs": [],
   "source": [
    "def rmse(X,Y):\n",
    "    if len(X) == len(Y):\n",
    "        squares = sum([(x-y)**2 for x,y in zip(X,Y)])\n",
    "        return math.sqrt(squares/len(X))\n",
    "    else:\n",
    "        return 'Vector lengths should be equal.'        "
   ]
  },
  {
   "cell_type": "code",
   "execution_count": 140,
   "metadata": {},
   "outputs": [
    {
     "name": "stdout",
     "output_type": "stream",
     "text": [
      "2.8030595529069404\n"
     ]
    }
   ],
   "source": [
    "print(rmse([1,3,5,2,4,1,6], [2,3,1,4,7,1,1]))"
   ]
  },
  {
   "cell_type": "markdown",
   "metadata": {},
   "source": [
    "### Remove duplicates\n",
    "Remove duplicates in list. The list is not sorted and the order of elements from the original list should be preserved.\n",
    "\n",
    "$[1, 2, 3, 1] => [1, 2, 3]$\n",
    "\n",
    "$[1, 3, 2, 1, 5, 3, 5, 1, 4] => [1, 3, 2, 5, 4]$"
   ]
  },
  {
   "cell_type": "code",
   "execution_count": 9,
   "metadata": {},
   "outputs": [],
   "source": [
    "def remove_dupl(x):\n",
    "    new = []\n",
    "    for i in x:\n",
    "        if i not in new:\n",
    "            new.append(i)\n",
    "    return new"
   ]
  },
  {
   "cell_type": "code",
   "execution_count": 10,
   "metadata": {},
   "outputs": [
    {
     "name": "stdout",
     "output_type": "stream",
     "text": [
      "[1, 3, 2, 5, 4]\n"
     ]
    }
   ],
   "source": [
    "print(remove_dupl([1, 3, 2, 1, 5, 3, 5, 1, 4]))"
   ]
  },
  {
   "cell_type": "markdown",
   "metadata": {},
   "source": [
    "### Count\n",
    "\n",
    "Count how many times each element in a list occurs.\n",
    "\n",
    "$[1, 3, 2, 1, 5, 3, 5, 1, 4] =>$\n",
    "\n",
    "- 1: 3 times\n",
    "- 3: 2 times etc."
   ]
  },
  {
   "cell_type": "code",
   "execution_count": 163,
   "metadata": {},
   "outputs": [],
   "source": [
    "import pprint"
   ]
  },
  {
   "cell_type": "code",
   "execution_count": 165,
   "metadata": {},
   "outputs": [],
   "source": [
    "def count_elem(x):\n",
    "    d = dict()\n",
    "    for i in x:\n",
    "        d[i] = d.get(i,0) +1\n",
    "    return d"
   ]
  },
  {
   "cell_type": "code",
   "execution_count": 166,
   "metadata": {},
   "outputs": [
    {
     "name": "stdout",
     "output_type": "stream",
     "text": [
      "{1: 3, 2: 1, 3: 2, 4: 1, 5: 2}\n"
     ]
    }
   ],
   "source": [
    "pprint.pprint(count_elem([1, 3, 2, 1, 5, 3, 5, 1, 4]))"
   ]
  },
  {
   "cell_type": "markdown",
   "metadata": {},
   "source": [
    "### Sort dictionary\n",
    "\n",
    "sort dictionary in descending manner according to values and pick top 3 elements"
   ]
  },
  {
   "cell_type": "code",
   "execution_count": 167,
   "metadata": {},
   "outputs": [],
   "source": [
    "def top_three(x):\n",
    "    top_keys = sorted(x, reverse = True, key = x.get)[:3]\n",
    "    return {key: x[key] for key in top_keys}"
   ]
  },
  {
   "cell_type": "code",
   "execution_count": 169,
   "metadata": {},
   "outputs": [
    {
     "name": "stdout",
     "output_type": "stream",
     "text": [
      "{1: 3, 3: 2, 5: 2}\n"
     ]
    }
   ],
   "source": [
    "pprint.pprint(top_three({1: 3, 3: 2, 2: 1, 5: 2, 4: 1}))"
   ]
  },
  {
   "cell_type": "markdown",
   "metadata": {},
   "source": [
    "### Palindrome\n",
    "\n",
    "Check if a string is a palindrome.\n",
    "- 'madam' => yes\n",
    "- 'ololo' => yes\n",
    "- 'ball' => no"
   ]
  },
  {
   "cell_type": "code",
   "execution_count": 13,
   "metadata": {},
   "outputs": [],
   "source": [
    "def check_palindrome(x):\n",
    "    return x == x[::-1]"
   ]
  },
  {
   "cell_type": "markdown",
   "metadata": {},
   "source": [
    "### Implement run-length encoding (RLE)\n",
    "\n",
    "- 'aaaabbbccaa' => [('a', 4), ('b', 3), ('c', 2), ('a', 2)]\n",
    "- (Note that there are two groups of 'a')"
   ]
  },
  {
   "cell_type": "code",
   "execution_count": 33,
   "metadata": {},
   "outputs": [
    {
     "data": {
      "text/plain": [
       "[('a', <itertools._grouper at 0x7f95d8095d30>),\n",
       " ('b', <itertools._grouper at 0x7f95d80957b8>),\n",
       " ('c', <itertools._grouper at 0x7f95d8095908>),\n",
       " ('a', <itertools._grouper at 0x7f95d8095cc0>)]"
      ]
     },
     "execution_count": 33,
     "metadata": {},
     "output_type": "execute_result"
    }
   ],
   "source": [
    "[(x,y) for x,y in itertools.groupby('aaaabbbccaa')]"
   ]
  },
  {
   "cell_type": "code",
   "execution_count": 34,
   "metadata": {},
   "outputs": [
    {
     "data": {
      "text/plain": [
       "['a', 'b', 'c', 'a']"
      ]
     },
     "execution_count": 34,
     "metadata": {},
     "output_type": "execute_result"
    }
   ],
   "source": [
    "[x for x,y in itertools.groupby('aaaabbbccaa')]"
   ]
  },
  {
   "cell_type": "code",
   "execution_count": 36,
   "metadata": {},
   "outputs": [
    {
     "data": {
      "text/plain": [
       "[['a', 'a', 'a', 'a'], ['b', 'b', 'b'], ['c', 'c'], ['a', 'a']]"
      ]
     },
     "execution_count": 36,
     "metadata": {},
     "output_type": "execute_result"
    }
   ],
   "source": [
    "[list(y) for x,y in itertools.groupby('aaaabbbccaa')]"
   ]
  },
  {
   "cell_type": "code",
   "execution_count": 41,
   "metadata": {},
   "outputs": [],
   "source": [
    "def rle(x):\n",
    "    return [(x, len(list(y))) for x,y in itertools.groupby(x)]"
   ]
  },
  {
   "cell_type": "code",
   "execution_count": 42,
   "metadata": {},
   "outputs": [
    {
     "data": {
      "text/plain": [
       "[('a', 4), ('b', 3), ('c', 2), ('a', 2)]"
      ]
     },
     "execution_count": 42,
     "metadata": {},
     "output_type": "execute_result"
    }
   ],
   "source": [
    "rle('aaaabbbccaa')"
   ]
  },
  {
   "cell_type": "markdown",
   "metadata": {},
   "source": [
    "### Jaccard\n",
    "\n",
    "Calculate the Jaccard similarity between two sets: the size of intersection divided by the size of union.\n",
    "\n",
    "jaccard({'a', 'b', 'c'}, {'a', 'd'}) = 1 / 4"
   ]
  },
  {
   "cell_type": "code",
   "execution_count": 44,
   "metadata": {},
   "outputs": [],
   "source": [
    "def jaccard(a,b):\n",
    "    return len(a & b) / len(a | b)"
   ]
  },
  {
   "cell_type": "markdown",
   "metadata": {},
   "source": [
    "### Fibonacci\n",
    "\n",
    "Return the n-th Fibonacci number, which is computed using this formula:\n",
    "- F(0) = 0\n",
    "- F(1) = 1\n",
    "- F(n) = F(n-1) + F(n-2)"
   ]
  },
  {
   "cell_type": "code",
   "execution_count": 45,
   "metadata": {},
   "outputs": [],
   "source": [
    "def fibonacci(n):\n",
    "    a,b = 0,1\n",
    "    for i in range(n):\n",
    "        a, b = b, a+b\n",
    "    return a"
   ]
  },
  {
   "cell_type": "code",
   "execution_count": 47,
   "metadata": {},
   "outputs": [
    {
     "name": "stdout",
     "output_type": "stream",
     "text": [
      "[0, 1, 1, 2, 3, 5, 8, 13, 21, 34, 55, 89, 144, 233, 377, 610, 987, 1597, 2584, 4181]\n"
     ]
    }
   ],
   "source": [
    "print([fibonacci(x) for x in range(20)])"
   ]
  },
  {
   "cell_type": "markdown",
   "metadata": {},
   "source": [
    "### Two sum \n",
    "Given an array and a number N, return True if there are numbers A, B in the array such that A + B = N. Otherwise, return False."
   ]
  },
  {
   "cell_type": "code",
   "execution_count": 49,
   "metadata": {},
   "outputs": [],
   "source": [
    "def two_sum(x,a):\n",
    "    \n",
    "    for i in x:\n",
    "        if i >=a:\n",
    "            x.remove(i)\n",
    "    if len(x) != 0:\n",
    "        for pair in list(itertools.combinations(x,2)):\n",
    "            if sum(list(pair)) == a:\n",
    "                return True\n",
    "        return False\n",
    "    else:\n",
    "        return False"
   ]
  },
  {
   "cell_type": "code",
   "execution_count": 50,
   "metadata": {},
   "outputs": [
    {
     "name": "stdout",
     "output_type": "stream",
     "text": [
      "True\n"
     ]
    }
   ],
   "source": [
    "a = [1,2,3,4,5,6]\n",
    "print(two_sum(a,3))"
   ]
  },
  {
   "cell_type": "code",
   "execution_count": 68,
   "metadata": {},
   "outputs": [],
   "source": [
    "def two_sum_2(x,a):\n",
    "    for i in x:\n",
    "        b = a - i\n",
    "        x.pop(x.index(a))\n",
    "        \n",
    "        if b in x:\n",
    "            return True\n",
    "        else:\n",
    "            return False"
   ]
  },
  {
   "cell_type": "code",
   "execution_count": 69,
   "metadata": {},
   "outputs": [
    {
     "name": "stdout",
     "output_type": "stream",
     "text": [
      "True\n"
     ]
    }
   ],
   "source": [
    "print(two_sum_2([1,2,3,4,5,6], 3))"
   ]
  },
  {
   "cell_type": "markdown",
   "metadata": {},
   "source": [
    "### Binary search\n",
    "\n",
    "Return the index of a given number in a sorted array or -1 if it’s not there.\n",
    "\n",
    "- [1, 4, 6, 10], 4 => 1\n",
    "- [1, 4, 6, 10], 3 => -1"
   ]
  },
  {
   "cell_type": "code",
   "execution_count": 70,
   "metadata": {},
   "outputs": [],
   "source": [
    "def binary_search(x,a):\n",
    "    l,r = 0, len(x)-1\n",
    "\n",
    "    while l <= r:\n",
    "        mid = (l + r) // 2\n",
    "        if x[mid] == a:\n",
    "            return mid\n",
    "        elif x[mid] < a:\n",
    "            l = mid + 1\n",
    "        else:\n",
    "            r = mid - 1\n",
    "\n",
    "    if r<0 or r>len(x) or x[r] != a:\n",
    "        return -1"
   ]
  },
  {
   "cell_type": "code",
   "execution_count": 71,
   "metadata": {},
   "outputs": [
    {
     "data": {
      "text/plain": [
       "1"
      ]
     },
     "execution_count": 71,
     "metadata": {},
     "output_type": "execute_result"
    }
   ],
   "source": [
    "binary_search([1, 4, 6, 10], 4)"
   ]
  },
  {
   "cell_type": "code",
   "execution_count": 72,
   "metadata": {},
   "outputs": [
    {
     "data": {
      "text/plain": [
       "-1"
      ]
     },
     "execution_count": 72,
     "metadata": {},
     "output_type": "execute_result"
    }
   ],
   "source": [
    "binary_search([1, 4, 6, 10], 3)"
   ]
  },
  {
   "cell_type": "markdown",
   "metadata": {},
   "source": [
    "### Bubble sort"
   ]
  },
  {
   "cell_type": "code",
   "execution_count": 76,
   "metadata": {},
   "outputs": [],
   "source": [
    "def bubblesort(y):\n",
    "    n = len(y)\n",
    "\n",
    "    for i in range(n):\n",
    "        for j in range(i+1,n):\n",
    "            if y[i] > y[j]:\n",
    "                y[i], y[j] = y[j], y[i]\n",
    "    return y"
   ]
  },
  {
   "cell_type": "code",
   "execution_count": 84,
   "metadata": {},
   "outputs": [
    {
     "name": "stdout",
     "output_type": "stream",
     "text": [
      "Bubble sort algorithm gives [-1, 0, 1, 2, 3, 4, 6, 7, 8, 9].\n"
     ]
    }
   ],
   "source": [
    "x = [-1,4,6,9,0,8,3,2,1,7]\n",
    "print(f\"Bubble sort algorithm gives {bubblesort(x)}.\")"
   ]
  },
  {
   "cell_type": "markdown",
   "metadata": {},
   "source": [
    "### Quick sort"
   ]
  },
  {
   "cell_type": "code",
   "execution_count": 82,
   "metadata": {},
   "outputs": [],
   "source": [
    "def quicksort(y):\n",
    "\n",
    "    if len(y) <= 1:\n",
    "        return y\n",
    "    else:\n",
    "        pivot = y.pop()\n",
    "\n",
    "    y_lower = []\n",
    "    y_higher= []\n",
    "\n",
    "    for item in y:\n",
    "        if item > pivot:\n",
    "            y_higher.append(item)\n",
    "        else:\n",
    "            y_lower.append(item)\n",
    "\n",
    "    return quicksort(y_lower) + [pivot] + quicksort(y_higher)"
   ]
  },
  {
   "cell_type": "code",
   "execution_count": 83,
   "metadata": {},
   "outputs": [
    {
     "name": "stdout",
     "output_type": "stream",
     "text": [
      "Quick sort algorithm gives [-1, 0, 1, 2, 3, 4, 6, 7, 8, 9].\n"
     ]
    }
   ],
   "source": [
    "print(f\"Quick sort algorithm gives {quicksort(x)}.\")"
   ]
  },
  {
   "cell_type": "markdown",
   "metadata": {},
   "source": [
    "### Addition\n",
    "\n",
    "Implement the addition algorithm from school. Suppose we represent numbers by a list of integers from 0 to 9:\n",
    "\n",
    "- 12 is [1, 2]\n",
    "- 1000 is [1, 0, 0, 0]\n",
    "\n",
    "Implement the “+” operation for this representation\n",
    "\n",
    "- [1, 1] + [1] => [1, 2]\n",
    "- [9, 9] + [2] => [1, 0, 1]"
   ]
  },
  {
   "cell_type": "code",
   "execution_count": 91,
   "metadata": {},
   "outputs": [],
   "source": [
    "def makelist(n):\n",
    "    x = list(str(n))\n",
    "    return [int(z) for z in x]                      # list(map(lambda z:int(z), x))\n",
    "\n",
    "def list_to_num(lst):\n",
    "    str_list = [str(i) for i in lst]\n",
    "    return int(''.join(str_list))\n",
    "\n",
    "def addition_list(lst1,lst2):\n",
    "    return f\"{lst1} + {lst2} = {makelist(list_to_num(lst1) + list_to_num(lst2))}\""
   ]
  },
  {
   "cell_type": "code",
   "execution_count": 92,
   "metadata": {},
   "outputs": [
    {
     "name": "stdout",
     "output_type": "stream",
     "text": [
      "[9, 9] + [2] = [1, 0, 1]\n"
     ]
    }
   ],
   "source": [
    "print(addition_list([9,9], [2])) "
   ]
  },
  {
   "cell_type": "markdown",
   "metadata": {},
   "source": [
    "### Sort by custom alphabet\n",
    "\n",
    "You’re given a list of words and an alphabet (e.g. a permutation of Latin alphabet). You need to use this alphabet to order words in the list.\n",
    "\n",
    "Example:\n",
    "\n",
    "- Words: ['home', 'oval', 'cat', 'egg', 'network', 'green']\n",
    "- Dictionary: 'bcdfghijklmnpqrstvwxzaeiouy'\n",
    "\n",
    "- Output: ['cat', 'green', 'home', 'network', 'egg', 'oval']"
   ]
  },
  {
   "cell_type": "code",
   "execution_count": 94,
   "metadata": {},
   "outputs": [],
   "source": [
    "def sort_alphabet(dictionary, words):\n",
    "    return sorted(words, key = lambda word: [dictionary.index(w) for w in word])"
   ]
  },
  {
   "cell_type": "code",
   "execution_count": 98,
   "metadata": {},
   "outputs": [
    {
     "name": "stdout",
     "output_type": "stream",
     "text": [
      "['cat', 'green', 'home', 'network', 'egg', 'oval']\n"
     ]
    }
   ],
   "source": [
    "x = ['home', 'oval', 'cat', 'egg', 'network', 'green']\n",
    "d = 'bcdfghijklmnpqrstvwxzaeiouy'\n",
    "print(sort_alphabet(d,x))"
   ]
  },
  {
   "cell_type": "markdown",
   "metadata": {},
   "source": [
    "### Maximum Sum Contiguous Subarray\n",
    "\n",
    "You are given an array A of length N, you have to find the largest possible sum of an Subarray, of array A.\n",
    "\n",
    "- [-2, 1, -3, 4, -1, 2, 1, -5, 4] gives 6 as largest sum from the subarray [4, -1, 2, -1]\n"
   ]
  },
  {
   "cell_type": "code",
   "execution_count": 102,
   "metadata": {},
   "outputs": [],
   "source": [
    "def max_subarray(numbers):\n",
    "    \"\"\"Find a contiguous subarray with the largest sum.\"\"\"\n",
    "    best_sum = 0  # or: float('-inf')\n",
    "    best_start = best_end = 0  # or: None\n",
    "    current_sum = 0\n",
    "    for current_end, x in enumerate(numbers):\n",
    "        if current_sum <= 0:\n",
    "            # Start a new sequence at the current element\n",
    "            current_start = current_end\n",
    "            current_sum = x\n",
    "        else:\n",
    "            # Extend the existing sequence with the current element\n",
    "            current_sum += x\n",
    "\n",
    "        if current_sum > best_sum:\n",
    "            best_sum = current_sum\n",
    "            best_start = current_start\n",
    "            best_end = current_end + 1  # the +1 is to make 'best_end' exclusive\n",
    "\n",
    "    return numbers[best_start: best_end], best_sum"
   ]
  },
  {
   "cell_type": "code",
   "execution_count": 103,
   "metadata": {},
   "outputs": [
    {
     "name": "stdout",
     "output_type": "stream",
     "text": [
      "([4, -1, 2, 1], 6)\n"
     ]
    }
   ],
   "source": [
    "print(max_subarray([-2, 1, -3, 4, -1, 2, 1, -5, 4]))"
   ]
  },
  {
   "cell_type": "markdown",
   "metadata": {},
   "source": [
    "###  Three sum\n",
    "\n",
    "Given an array, and a target value, find all possible combinations of three distinct numbers such that the sum of these three distinct numbers is equal to the target value.\n",
    "\n",
    "- Input: [12, 3, 1, 2, -6, 5, -8, 6], 0\n",
    "- Output: [[-8, 2, 6], [-8, 3, 5], [-6, 1, 5]]"
   ]
  },
  {
   "cell_type": "code",
   "execution_count": 104,
   "metadata": {},
   "outputs": [],
   "source": [
    "def threesum(lst, target):\n",
    "    ans = []\n",
    "    import itertools as itl\n",
    "    combs = list(itl.combinations(lst, 3))\n",
    "    for c in combs:\n",
    "        if sum(list(c)) == target:\n",
    "            ans.append(list(c))\n",
    "    return ans"
   ]
  },
  {
   "cell_type": "code",
   "execution_count": 105,
   "metadata": {},
   "outputs": [
    {
     "name": "stdout",
     "output_type": "stream",
     "text": [
      "[[3, 5, -8], [1, -6, 5], [2, -8, 6]]\n"
     ]
    }
   ],
   "source": [
    "print(threesum([12, 3, 1, 2, -6, 5, -8, 6], 0))"
   ]
  },
  {
   "cell_type": "markdown",
   "metadata": {},
   "source": [
    "### Rotate array\n",
    "\n",
    "For example, given\n",
    "\n",
    "A = [3, 8, 9, 7, 6]\n",
    "\n",
    "K = 3\n",
    "\n",
    "the function should return [9, 7, 6, 3, 8]. Three rotations were made:\n",
    "\n",
    "[3, 8, 9, 7, 6] -> [6, 3, 8, 9, 7]\n",
    "\n",
    "[6, 3, 8, 9, 7] -> [7, 6, 3, 8, 9]\n",
    "\n",
    "[7, 6, 3, 8, 9] -> [9, 7, 6, 3, 8]\n"
   ]
  },
  {
   "cell_type": "code",
   "execution_count": 154,
   "metadata": {},
   "outputs": [],
   "source": [
    "def rotate_one(x):\n",
    "\n",
    "    new = [x[-1]]\n",
    "    new.extend([f for f in x[:-1]])\n",
    "    return new\n",
    "\n",
    "\n",
    "def rotate_k(x,k):\n",
    "    for i in range(k):\n",
    "        x = rotate_one(x)\n",
    "    return x"
   ]
  },
  {
   "cell_type": "code",
   "execution_count": 155,
   "metadata": {},
   "outputs": [
    {
     "name": "stdout",
     "output_type": "stream",
     "text": [
      "[2, 3, 4, 1]\n"
     ]
    }
   ],
   "source": [
    "print(rotate_k([1,2,3,4], 3))"
   ]
  },
  {
   "cell_type": "markdown",
   "metadata": {},
   "source": [
    "### Write a function:\n",
    "\n",
    "    def solution(A)\n",
    "\n",
    "that, given an array A of N integers, returns the smallest positive integer (greater than 0) that does not occur in A.\n",
    "\n",
    "For example, given A = [1, 3, 6, 4, 1, 2], the function should return 5.\n",
    "\n",
    "Given A = [1, 2, 3], the function should return 4.\n",
    "\n",
    "Given A = [−1, −3], the function should return 1.\n",
    "\n",
    "Write an efficient algorithm for the following assumptions:\n",
    "\n",
    "N is an integer within the range [1..100,000];\n",
    "each element of array A is an integer within the range [−1,000,000..1,000,000]."
   ]
  },
  {
   "cell_type": "code",
   "execution_count": 106,
   "metadata": {},
   "outputs": [],
   "source": [
    "def solution(A):\n",
    "\n",
    "    if A == []:\n",
    "        return 'NaN'\n",
    "\n",
    "    A.sort()\n",
    "    a = A[0]\n",
    "    b = A[-1]\n",
    "    range_ = range(1,b+1)\n",
    "\n",
    "    for j in range_:\n",
    "        if j not in A:\n",
    "            return j\n",
    "\n",
    "    if a > 1 or b < 0:\n",
    "        return 1\n",
    "    elif b > 0:\n",
    "        return b + 1"
   ]
  },
  {
   "cell_type": "code",
   "execution_count": 107,
   "metadata": {},
   "outputs": [
    {
     "name": "stdout",
     "output_type": "stream",
     "text": [
      "5\n"
     ]
    }
   ],
   "source": [
    "print(solution([1, 3, 6, 4, 1, 2]))"
   ]
  },
  {
   "cell_type": "markdown",
   "metadata": {},
   "source": [
    "#### Return the sum of the numbers in the array, except ignore sections of numbers starting with a 6 and extending to the next 7 (every 6 will be followed by at least one 7). Return 0 for no numbers.\n",
    "\n",
    "- sum67([1, 2, 2]) → 5\n",
    "- sum67([1, 2, 2, 6, 99, 99, 7]) → 5\n",
    "- sum67([1, 1, 6, 7, 2]) → 4"
   ]
  },
  {
   "cell_type": "code",
   "execution_count": 109,
   "metadata": {},
   "outputs": [],
   "source": [
    "def sum67(nums):\n",
    "    if nums == []:\n",
    "        return 0\n",
    "  \n",
    "    if 6 not in nums:\n",
    "        return sum(nums)\n",
    "  \n",
    "    ind = []\n",
    "  \n",
    "    ind6 = nums.index(6)\n",
    "  \n",
    "    if 7 in nums:\n",
    "        ind7 = nums.index(7)\n",
    "  \n",
    "    j=0\n",
    " \n",
    "    while j <= len(nums)-1:\n",
    "    \n",
    "        if nums[j] == 6:\n",
    "            k = j+1\n",
    "            while nums[k] != 7 and k <= len(nums)-1:\n",
    "                k += 1\n",
    "            ind += list(range(j,k+1))\n",
    "        j += 1\n",
    "    \n",
    "    s = 0\n",
    "  \n",
    "    for i in range(len(nums)):\n",
    "        if i not in ind:\n",
    "            s+=nums[i]\n",
    "    return s"
   ]
  },
  {
   "cell_type": "code",
   "execution_count": 110,
   "metadata": {},
   "outputs": [
    {
     "name": "stdout",
     "output_type": "stream",
     "text": [
      "2\n"
     ]
    }
   ],
   "source": [
    "print(sum67([1, 6, 2, 2, 7, 1, 6, 99, 99, 7]))"
   ]
  },
  {
   "cell_type": "markdown",
   "metadata": {},
   "source": [
    "#### Return the sum of the numbers in the array, returning 0 for an empty array. Except the number 13 is very unlucky, so it does not count and numbers that come immediately after a 13 also do not count.\n",
    "\n",
    "- sum13([1, 2, 2, 1]) → 6\n",
    "- sum13([1, 1]) → 2\n",
    "- sum13([1, 2, 2, 1, 13]) → 6"
   ]
  },
  {
   "cell_type": "code",
   "execution_count": 111,
   "metadata": {},
   "outputs": [],
   "source": [
    "def sum13(nums):\n",
    "  \n",
    "    if nums == []:\n",
    "        return 0\n",
    "  \n",
    "    ind = []\n",
    "  \n",
    "    for j in range(len(nums)):\n",
    "        if nums[j] == 13:\n",
    "            ind.append(j)\n",
    "            if j+1 != len(nums):\n",
    "                ind.append(j+1)\n",
    "  \n",
    "    s = 0\n",
    "  \n",
    "    for i in range(len(nums)):\n",
    "        if i not in ind:\n",
    "            s += nums[i]\n",
    "    return s"
   ]
  },
  {
   "cell_type": "code",
   "execution_count": 112,
   "metadata": {},
   "outputs": [
    {
     "name": "stdout",
     "output_type": "stream",
     "text": [
      "6\n"
     ]
    }
   ],
   "source": [
    "print(sum13([1, 2, 2, 1, 13]))"
   ]
  },
  {
   "cell_type": "markdown",
   "metadata": {},
   "source": [
    "#### Given 3 int values, a b c, return their sum. However, if one of the values is the same as another of the values, it does not count towards the sum.\n",
    "\n",
    "- lone_sum(1, 2, 3) → 6\n",
    "- lone_sum(3, 2, 3) → 2\n",
    "- lone_sum(3, 3, 3) → 0"
   ]
  },
  {
   "cell_type": "code",
   "execution_count": 142,
   "metadata": {},
   "outputs": [],
   "source": [
    "def lonesum(a,b,c):\n",
    "    l, s = [a,b,c], 0\n",
    "    for element in l:\n",
    "        if l.count(element) == 1:\n",
    "            s += element\n",
    "    return s"
   ]
  },
  {
   "cell_type": "code",
   "execution_count": 143,
   "metadata": {},
   "outputs": [
    {
     "name": "stdout",
     "output_type": "stream",
     "text": [
      "2\n"
     ]
    }
   ],
   "source": [
    "print(lonesum(2,3,3))"
   ]
  },
  {
   "cell_type": "markdown",
   "metadata": {},
   "source": [
    "#### Add star at the start of each line of text\n",
    "\n",
    "text :\n",
    "Lists of animals\n",
    "Lists of aquarium life\n",
    "Lists of biologists\n",
    "Lists of fruits\n",
    "\n",
    "result:\n",
    "\\* Lists of animals\n",
    "\\* Lists of aquarium life\n",
    "\\* Lists of biologists\n",
    "\\* Lists of fruits"
   ]
  },
  {
   "cell_type": "code",
   "execution_count": 14,
   "metadata": {},
   "outputs": [
    {
     "name": "stdout",
     "output_type": "stream",
     "text": [
      "* Lists of animals\n",
      "* Lists of aquarium life\n",
      "* Lists of biologists\n",
      "* Lists of fruits\n"
     ]
    }
   ],
   "source": [
    "text = 'Lists of animals\\nLists of aquarium life\\nLists of biologists\\nLists of fruits'\n",
    "\n",
    "lines = text.split('\\n')\n",
    "for i in range(len(lines)):\n",
    "    lines[i] = '* ' + lines[i]\n",
    "text  = '\\n'.join(lines)\n",
    "print(text)"
   ]
  },
  {
   "cell_type": "markdown",
   "metadata": {},
   "source": [
    "## Check a pattern in a string\n",
    "\n",
    "locate the phone number in the following text:\n",
    "'Hello I am Adam Lyon. I live in Oregon and my number is 732-734-2345.'"
   ]
  },
  {
   "cell_type": "code",
   "execution_count": 15,
   "metadata": {},
   "outputs": [],
   "source": [
    "import re"
   ]
  },
  {
   "cell_type": "code",
   "execution_count": 73,
   "metadata": {},
   "outputs": [
    {
     "data": {
      "text/plain": [
       "'732-734-2345'"
      ]
     },
     "execution_count": 73,
     "metadata": {},
     "output_type": "execute_result"
    }
   ],
   "source": [
    "text = 'Hello I am Adam Lyon. I live in Oregon and my house phone number is 732-734-2345. My office number is 234-553-2341.'\n",
    "\n",
    "phone_num_regex = re.compile(r'\\d{3}-\\d{3}-\\d{4}') # regex for USA phone numbers\n",
    "phone_match = phone_num_regex.search(text) # search finds only first apprearance of the pattern\n",
    "phone_match.group()"
   ]
  },
  {
   "cell_type": "code",
   "execution_count": 74,
   "metadata": {},
   "outputs": [
    {
     "data": {
      "text/plain": [
       "['732-734-2345', '234-553-2341']"
      ]
     },
     "execution_count": 74,
     "metadata": {},
     "output_type": "execute_result"
    }
   ],
   "source": [
    "phone_match = phone_num_regex.findall(text) # search finds only first apprearance of the pattern\n",
    "phone_match"
   ]
  },
  {
   "cell_type": "markdown",
   "metadata": {},
   "source": [
    "#### Grab the area code (first 3 digits) from the phone number in the above text"
   ]
  },
  {
   "cell_type": "code",
   "execution_count": 76,
   "metadata": {},
   "outputs": [
    {
     "name": "stdout",
     "output_type": "stream",
     "text": [
      "Area code is 732 while the rest of digits are 734-2345.\n"
     ]
    },
    {
     "data": {
      "text/plain": [
       "[('732', '734-2345'), ('234', '553-2341')]"
      ]
     },
     "execution_count": 76,
     "metadata": {},
     "output_type": "execute_result"
    }
   ],
   "source": [
    "phone_num_regex = re.compile(r'(\\d{3})-(\\d{3}-\\d{4})') # regex for USA phone numbers\n",
    "phone_match = phone_num_regex.search(text)\n",
    "print(f'Area code is {phone_match.group(1)} while the rest of digits are {phone_match.group(2)}.')\n",
    "\n",
    "phone_findall = phone_num_regex.findall(text) \n",
    "phone_findall"
   ]
  },
  {
   "cell_type": "code",
   "execution_count": 26,
   "metadata": {},
   "outputs": [
    {
     "data": {
      "text/plain": [
       "('732', '734-2345')"
      ]
     },
     "execution_count": 26,
     "metadata": {},
     "output_type": "execute_result"
    }
   ],
   "source": [
    "phone_match.groups() # get all the groups (returns tuple)"
   ]
  },
  {
   "cell_type": "code",
   "execution_count": 32,
   "metadata": {},
   "outputs": [
    {
     "data": {
      "text/plain": [
       "'chicken'"
      ]
     },
     "execution_count": 32,
     "metadata": {},
     "output_type": "execute_result"
    }
   ],
   "source": [
    "regex = re.compile(r'chicken|egg') # | (called pipe) will match either of the given strings \n",
    "mo = regex.search('Does a chicken or an egg come first?')\n",
    "mo.group()"
   ]
  },
  {
   "cell_type": "code",
   "execution_count": 33,
   "metadata": {},
   "outputs": [
    {
     "data": {
      "text/plain": [
       "'egg'"
      ]
     },
     "execution_count": 33,
     "metadata": {},
     "output_type": "execute_result"
    }
   ],
   "source": [
    "mo = regex.search('Does an egg or a chicken come first?') # if both appear, 1st occurence of matching text will be returned\n",
    "mo.group()"
   ]
  },
  {
   "cell_type": "code",
   "execution_count": 39,
   "metadata": {},
   "outputs": [
    {
     "name": "stdout",
     "output_type": "stream",
     "text": [
      "Batmobile mobile ('mobile',)\n"
     ]
    }
   ],
   "source": [
    "batregex = re.compile(r'Bat(man|mobile|copter|bat)')\n",
    "mo = batregex.search('Batmobile lost a wheel.')\n",
    "print(mo.group(), mo.group(1), mo.groups())"
   ]
  },
  {
   "cell_type": "code",
   "execution_count": 45,
   "metadata": {},
   "outputs": [],
   "source": [
    "mo = batregex.search('Batmobile lost a wheel, Batcopter crashed but Batman saved Gotham.')"
   ]
  },
  {
   "cell_type": "code",
   "execution_count": 46,
   "metadata": {},
   "outputs": [
    {
     "data": {
      "text/plain": [
       "'Batman'"
      ]
     },
     "execution_count": 46,
     "metadata": {},
     "output_type": "execute_result"
    }
   ],
   "source": [
    "batregex = re.compile(r'Bat(wo)?man') # '?' means match 0 or 1 group preceding it\n",
    "batregex.search('Adventures of Batman').group()"
   ]
  },
  {
   "cell_type": "code",
   "execution_count": 47,
   "metadata": {},
   "outputs": [
    {
     "data": {
      "text/plain": [
       "'Batwoman'"
      ]
     },
     "execution_count": 47,
     "metadata": {},
     "output_type": "execute_result"
    }
   ],
   "source": [
    "batregex.search('Adventures of Batwoman').group()"
   ]
  },
  {
   "cell_type": "code",
   "execution_count": 48,
   "metadata": {},
   "outputs": [
    {
     "data": {
      "text/plain": [
       "'Batman'"
      ]
     },
     "execution_count": 48,
     "metadata": {},
     "output_type": "execute_result"
    }
   ],
   "source": [
    "batregex = re.compile(r'Bat(wo)*man') # '*' means match 0 or more group(s) preceding it\n",
    "batregex.search('Adventures of Batman').group()"
   ]
  },
  {
   "cell_type": "code",
   "execution_count": 51,
   "metadata": {},
   "outputs": [
    {
     "data": {
      "text/plain": [
       "'Batwowowoman'"
      ]
     },
     "execution_count": 51,
     "metadata": {},
     "output_type": "execute_result"
    }
   ],
   "source": [
    "batregex.search('Adventures of Batwowowoman').group()"
   ]
  },
  {
   "cell_type": "code",
   "execution_count": 55,
   "metadata": {},
   "outputs": [
    {
     "name": "stdout",
     "output_type": "stream",
     "text": [
      "None\n"
     ]
    }
   ],
   "source": [
    "batregex = re.compile(r'Bat(wo)+man') # '+' means match 1 or more group(s) preceding it\n",
    "print(batregex.search('Adventures of Batman'))"
   ]
  },
  {
   "cell_type": "code",
   "execution_count": 56,
   "metadata": {},
   "outputs": [
    {
     "data": {
      "text/plain": [
       "'Batwowoman'"
      ]
     },
     "execution_count": 56,
     "metadata": {},
     "output_type": "execute_result"
    }
   ],
   "source": [
    "mo = batregex.search('Adventures of Batwowoman')\n",
    "mo.group()"
   ]
  },
  {
   "cell_type": "code",
   "execution_count": 58,
   "metadata": {},
   "outputs": [
    {
     "data": {
      "text/plain": [
       "'HaHaHaHa'"
      ]
     },
     "execution_count": 58,
     "metadata": {},
     "output_type": "execute_result"
    }
   ],
   "source": [
    "rx = re.compile(r'(Ha){3,6}') # group apprears 3, 4, 5 or 6 times ({,6} = 0 to 6, {3,} = 3 to inf)\n",
    "mo = rx.search('HaHaHaHa funny').group()"
   ]
  },
  {
   "cell_type": "code",
   "execution_count": 63,
   "metadata": {},
   "outputs": [
    {
     "data": {
      "text/plain": [
       "'HaHaHa'"
      ]
     },
     "execution_count": 63,
     "metadata": {},
     "output_type": "execute_result"
    }
   ],
   "source": [
    "rx = re.compile(r'(Ha){3,6}?') # non-greedy. Returns shortest pattern match)\n",
    "rx.search('HaHaHaHaHaHaHaHaHaHaHaHa funny').group()"
   ]
  },
  {
   "cell_type": "code",
   "execution_count": 80,
   "metadata": {},
   "outputs": [
    {
     "data": {
      "text/plain": [
       "['12 drummers',\n",
       " '11 pipers',\n",
       " '10 lords',\n",
       " '9 ladies',\n",
       " '8 maids',\n",
       " '7 swans',\n",
       " '6 geese',\n",
       " '5 rings',\n",
       " '4 birds',\n",
       " '3 hens',\n",
       " '2 doves',\n",
       " '1 partridge']"
      ]
     },
     "execution_count": 80,
     "metadata": {},
     "output_type": "execute_result"
    }
   ],
   "source": [
    "list_xmas = '12 drummers, 11 pipers, 10 lords, 9 ladies, 8 maids, 7 swans,6 geese, 5 rings, 4 birds,3 hens,2 doves, 1 partridge'\n",
    "\n",
    "xmasRegex = re.compile(r'\\d+\\s\\w+') # \\d = digit, \\w = letter/digit/_, \\s = space\n",
    "xmasRegex.findall(list_xmas)"
   ]
  },
  {
   "cell_type": "code",
   "execution_count": 81,
   "metadata": {},
   "outputs": [
    {
     "data": {
      "text/plain": [
       "['12 drummers',\n",
       " '11 pipers',\n",
       " '5 rings',\n",
       " '4 birds',\n",
       " '3 hens',\n",
       " '2 doves',\n",
       " '1 partridge']"
      ]
     },
     "execution_count": 81,
     "metadata": {},
     "output_type": "execute_result"
    }
   ],
   "source": [
    "xmasRegex = re.compile(r'[1-5]+\\s\\w+') # [1-5] = matching 1 to 5\n",
    "xmasRegex.findall(list_xmas)"
   ]
  },
  {
   "cell_type": "code",
   "execution_count": 82,
   "metadata": {},
   "outputs": [
    {
     "data": {
      "text/plain": [
       "['o', 'o', 'o', 'e', 'a', 'a', 'o', 'o', 'A', 'O', 'O']"
      ]
     },
     "execution_count": 82,
     "metadata": {},
     "output_type": "execute_result"
    }
   ],
   "source": [
    "vowelRegex = re.compile(r'[aeiouAEIOU]') # custom matching criterion, will match any vowel\n",
    "vowelRegex.findall('RoboCop eats baby food. BABY FOOD.')"
   ]
  },
  {
   "cell_type": "markdown",
   "metadata": {},
   "source": [
    "#### [a-zA-Z0-9] = All lowercase, uppercase letters and numbers\n",
    "#### [0-6.?] = Matching digits 0 to 6 and a period and a question mark\n",
    "#### [^0-6.?] = Matching everything that is not digits 0 to 6 and a period and a question mark (complement to previous)\n",
    "#### r'^Hello' = Match string beginning with a pattern 'Hello'\n",
    "#### r'Hello\\\\$' = Match string ending with a pattern 'Hello'"
   ]
  },
  {
   "cell_type": "markdown",
   "metadata": {},
   "source": [
    "#### r'^\\d\\\\$' = entire string of digits"
   ]
  },
  {
   "cell_type": "markdown",
   "metadata": {},
   "source": [
    "#### r'.' = match any character except newline character \n",
    "#### r'.*' = match any string except newline character"
   ]
  },
  {
   "cell_type": "code",
   "execution_count": 85,
   "metadata": {},
   "outputs": [
    {
     "data": {
      "text/plain": [
       "'<To serve man>'"
      ]
     },
     "execution_count": 85,
     "metadata": {},
     "output_type": "execute_result"
    }
   ],
   "source": [
    "reg = re.compile(r'<.*?>') # ? = non-greedily, .* = match everything\n",
    "reg.search('<To serve man> for dinner.>').group()"
   ]
  },
  {
   "cell_type": "code",
   "execution_count": 89,
   "metadata": {},
   "outputs": [],
   "source": [
    "reg = re.compile(r'<.*>') #  .* = greedily match everything\n",
    "reg.search('<To serve man> for dinner.>').group()"
   ]
  },
  {
   "cell_type": "code",
   "execution_count": 91,
   "metadata": {},
   "outputs": [
    {
     "data": {
      "text/plain": [
       "'Serve the public trust.'"
      ]
     },
     "execution_count": 91,
     "metadata": {},
     "output_type": "execute_result"
    }
   ],
   "source": [
    "reg = re.compile(r'.*') # match everything except newline\n",
    "reg.search('Serve the public trust.\\nProtect the innocent.').group()"
   ]
  },
  {
   "cell_type": "code",
   "execution_count": 92,
   "metadata": {},
   "outputs": [
    {
     "data": {
      "text/plain": [
       "'Serve the public trust.\\nProtect the innocent.'"
      ]
     },
     "execution_count": 92,
     "metadata": {},
     "output_type": "execute_result"
    }
   ],
   "source": [
    "reg = re.compile(r'.*', re.DOTALL) # include newline in .* or in other words, match everything\n",
    "reg.search('Serve the public trust.\\nProtect the innocent.').group()"
   ]
  },
  {
   "cell_type": "code",
   "execution_count": 93,
   "metadata": {},
   "outputs": [
    {
     "data": {
      "text/plain": [
       "'RoboCOP'"
      ]
     },
     "execution_count": 93,
     "metadata": {},
     "output_type": "execute_result"
    }
   ],
   "source": [
    "reg = re.compile(r'RoBoCop', re.I) # Case-Insensitive\n",
    "reg.search('RoboCOP').group()"
   ]
  },
  {
   "cell_type": "markdown",
   "metadata": {},
   "source": [
    "#### Replacing a pattern with a string"
   ]
  },
  {
   "cell_type": "code",
   "execution_count": 95,
   "metadata": {},
   "outputs": [
    {
     "data": {
      "text/plain": [
       "'CENSORED gave the secret documents to CENSORED.'"
      ]
     },
     "execution_count": 95,
     "metadata": {},
     "output_type": "execute_result"
    }
   ],
   "source": [
    "reg = re.compile(r'Agent \\w+')\n",
    "reg.sub('CENSORED', 'Agent Lloyd gave the secret documents to Agent Wieck.')"
   ]
  },
  {
   "cell_type": "markdown",
   "metadata": {},
   "source": [
    "#### Replace a matched string with a group of a matched string"
   ]
  },
  {
   "cell_type": "code",
   "execution_count": 98,
   "metadata": {},
   "outputs": [
    {
     "data": {
      "text/plain": [
       "'A**** told J**** that B**** was a double agent.'"
      ]
     },
     "execution_count": 98,
     "metadata": {},
     "output_type": "execute_result"
    }
   ],
   "source": [
    "reg = re.compile(r'Agent (\\w)\\w*')\n",
    "reg.sub(r'\\1****', 'Agent Alice told Agent John that Agent Bob was a double agent.') # \\1 = 1st group"
   ]
  }
 ],
 "metadata": {
  "kernelspec": {
   "display_name": "Python 3",
   "language": "python",
   "name": "python3"
  },
  "language_info": {
   "codemirror_mode": {
    "name": "ipython",
    "version": 3
   },
   "file_extension": ".py",
   "mimetype": "text/x-python",
   "name": "python",
   "nbconvert_exporter": "python",
   "pygments_lexer": "ipython3",
   "version": "3.6.8"
  },
  "varInspector": {
   "cols": {
    "lenName": 16,
    "lenType": 16,
    "lenVar": 40
   },
   "kernels_config": {
    "python": {
     "delete_cmd_postfix": "",
     "delete_cmd_prefix": "del ",
     "library": "var_list.py",
     "varRefreshCmd": "print(var_dic_list())"
    },
    "r": {
     "delete_cmd_postfix": ") ",
     "delete_cmd_prefix": "rm(",
     "library": "var_list.r",
     "varRefreshCmd": "cat(var_dic_list()) "
    }
   },
   "types_to_exclude": [
    "module",
    "function",
    "builtin_function_or_method",
    "instance",
    "_Feature"
   ],
   "window_display": false
  }
 },
 "nbformat": 4,
 "nbformat_minor": 2
}
